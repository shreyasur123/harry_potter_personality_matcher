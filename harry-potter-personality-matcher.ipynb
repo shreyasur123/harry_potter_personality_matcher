{
 "cells": [
  {
   "cell_type": "code",
   "execution_count": 70,
   "id": "c4fc4381",
   "metadata": {},
   "outputs": [],
   "source": [
    "import pandas as pd\n",
    "import numpy as np\n",
    "import matplotlib.pyplot as plt\n",
    "import seaborn as sns"
   ]
  },
  {
   "cell_type": "code",
   "execution_count": 71,
   "id": "ba66e9f3",
   "metadata": {},
   "outputs": [],
   "source": [
    "movies = pd.read_csv('Movies.csv')\n",
    "places = pd.read_csv('Places.csv')\n",
    "dialogues = pd.read_csv('Dialogue.csv', encoding = 'latin-1')\n",
    "data = pd.read_csv('Data_Dictionary.csv')\n",
    "spells = pd.read_csv('Spells.csv')\n",
    "characters = pd.read_csv('Characters.csv', encoding = 'latin-1')\n",
    "chapters = pd.read_csv('Chapters.csv', encoding = 'latin-1')"
   ]
  },
  {
   "cell_type": "code",
   "execution_count": 72,
   "id": "5da6476b",
   "metadata": {},
   "outputs": [
    {
     "data": {
      "text/html": [
       "<div>\n",
       "<style scoped>\n",
       "    .dataframe tbody tr th:only-of-type {\n",
       "        vertical-align: middle;\n",
       "    }\n",
       "\n",
       "    .dataframe tbody tr th {\n",
       "        vertical-align: top;\n",
       "    }\n",
       "\n",
       "    .dataframe thead th {\n",
       "        text-align: right;\n",
       "    }\n",
       "</style>\n",
       "<table border=\"1\" class=\"dataframe\">\n",
       "  <thead>\n",
       "    <tr style=\"text-align: right;\">\n",
       "      <th></th>\n",
       "      <th>Dialogue ID</th>\n",
       "      <th>Chapter ID</th>\n",
       "      <th>Place ID</th>\n",
       "      <th>Character ID</th>\n",
       "      <th>Dialogue</th>\n",
       "    </tr>\n",
       "  </thead>\n",
       "  <tbody>\n",
       "    <tr>\n",
       "      <th>0</th>\n",
       "      <td>1</td>\n",
       "      <td>1</td>\n",
       "      <td>8</td>\n",
       "      <td>4</td>\n",
       "      <td>I should have known that you would be here...P...</td>\n",
       "    </tr>\n",
       "    <tr>\n",
       "      <th>1</th>\n",
       "      <td>2</td>\n",
       "      <td>1</td>\n",
       "      <td>8</td>\n",
       "      <td>7</td>\n",
       "      <td>Good evening, Professor Dumbledore. Are the ru...</td>\n",
       "    </tr>\n",
       "    <tr>\n",
       "      <th>2</th>\n",
       "      <td>3</td>\n",
       "      <td>1</td>\n",
       "      <td>8</td>\n",
       "      <td>4</td>\n",
       "      <td>I'm afraid so, Professor. The good, and the bad.</td>\n",
       "    </tr>\n",
       "    <tr>\n",
       "      <th>3</th>\n",
       "      <td>4</td>\n",
       "      <td>1</td>\n",
       "      <td>8</td>\n",
       "      <td>7</td>\n",
       "      <td>And the boy?</td>\n",
       "    </tr>\n",
       "    <tr>\n",
       "      <th>4</th>\n",
       "      <td>5</td>\n",
       "      <td>1</td>\n",
       "      <td>8</td>\n",
       "      <td>4</td>\n",
       "      <td>Hagrid is bringing him.</td>\n",
       "    </tr>\n",
       "  </tbody>\n",
       "</table>\n",
       "</div>"
      ],
      "text/plain": [
       "   Dialogue ID  Chapter ID  Place ID  Character ID  \\\n",
       "0            1           1         8             4   \n",
       "1            2           1         8             7   \n",
       "2            3           1         8             4   \n",
       "3            4           1         8             7   \n",
       "4            5           1         8             4   \n",
       "\n",
       "                                            Dialogue  \n",
       "0  I should have known that you would be here...P...  \n",
       "1  Good evening, Professor Dumbledore. Are the ru...  \n",
       "2   I'm afraid so, Professor. The good, and the bad.  \n",
       "3                                       And the boy?  \n",
       "4                            Hagrid is bringing him.  "
      ]
     },
     "execution_count": 72,
     "metadata": {},
     "output_type": "execute_result"
    }
   ],
   "source": [
    "dialogues.head()"
   ]
  },
  {
   "cell_type": "code",
   "execution_count": 73,
   "id": "fbf26bbe",
   "metadata": {},
   "outputs": [
    {
     "data": {
      "text/plain": [
       "(7444, 5)"
      ]
     },
     "execution_count": 73,
     "metadata": {},
     "output_type": "execute_result"
    }
   ],
   "source": [
    "dialogues.shape"
   ]
  },
  {
   "cell_type": "code",
   "execution_count": 74,
   "id": "6cce50f8",
   "metadata": {},
   "outputs": [
    {
     "data": {
      "text/html": [
       "<div>\n",
       "<style scoped>\n",
       "    .dataframe tbody tr th:only-of-type {\n",
       "        vertical-align: middle;\n",
       "    }\n",
       "\n",
       "    .dataframe tbody tr th {\n",
       "        vertical-align: top;\n",
       "    }\n",
       "\n",
       "    .dataframe thead th {\n",
       "        text-align: right;\n",
       "    }\n",
       "</style>\n",
       "<table border=\"1\" class=\"dataframe\">\n",
       "  <thead>\n",
       "    <tr style=\"text-align: right;\">\n",
       "      <th></th>\n",
       "      <th>Chapter ID</th>\n",
       "      <th>Chapter Name</th>\n",
       "      <th>Movie ID</th>\n",
       "      <th>Movie Chapter</th>\n",
       "    </tr>\n",
       "  </thead>\n",
       "  <tbody>\n",
       "    <tr>\n",
       "      <th>0</th>\n",
       "      <td>1</td>\n",
       "      <td>Doorstep Delivery</td>\n",
       "      <td>1</td>\n",
       "      <td>1</td>\n",
       "    </tr>\n",
       "    <tr>\n",
       "      <th>1</th>\n",
       "      <td>2</td>\n",
       "      <td>The Vanishing Glass</td>\n",
       "      <td>1</td>\n",
       "      <td>2</td>\n",
       "    </tr>\n",
       "    <tr>\n",
       "      <th>2</th>\n",
       "      <td>3</td>\n",
       "      <td>Letters from No One</td>\n",
       "      <td>1</td>\n",
       "      <td>3</td>\n",
       "    </tr>\n",
       "    <tr>\n",
       "      <th>3</th>\n",
       "      <td>4</td>\n",
       "      <td>Keeper of the Keys</td>\n",
       "      <td>1</td>\n",
       "      <td>4</td>\n",
       "    </tr>\n",
       "    <tr>\n",
       "      <th>4</th>\n",
       "      <td>5</td>\n",
       "      <td>Diagon Alley</td>\n",
       "      <td>1</td>\n",
       "      <td>5</td>\n",
       "    </tr>\n",
       "  </tbody>\n",
       "</table>\n",
       "</div>"
      ],
      "text/plain": [
       "   Chapter ID         Chapter Name  Movie ID  Movie Chapter\n",
       "0           1    Doorstep Delivery         1              1\n",
       "1           2  The Vanishing Glass         1              2\n",
       "2           3  Letters from No One         1              3\n",
       "3           4   Keeper of the Keys         1              4\n",
       "4           5         Diagon Alley         1              5"
      ]
     },
     "execution_count": 74,
     "metadata": {},
     "output_type": "execute_result"
    }
   ],
   "source": [
    "chapters.head()"
   ]
  },
  {
   "cell_type": "code",
   "execution_count": 75,
   "id": "d0c8e8a1",
   "metadata": {},
   "outputs": [
    {
     "data": {
      "text/plain": [
       "(234, 4)"
      ]
     },
     "execution_count": 75,
     "metadata": {},
     "output_type": "execute_result"
    }
   ],
   "source": [
    "chapters.shape"
   ]
  },
  {
   "cell_type": "code",
   "execution_count": 76,
   "id": "2fa227cb",
   "metadata": {},
   "outputs": [
    {
     "data": {
      "text/html": [
       "<div>\n",
       "<style scoped>\n",
       "    .dataframe tbody tr th:only-of-type {\n",
       "        vertical-align: middle;\n",
       "    }\n",
       "\n",
       "    .dataframe tbody tr th {\n",
       "        vertical-align: top;\n",
       "    }\n",
       "\n",
       "    .dataframe thead th {\n",
       "        text-align: right;\n",
       "    }\n",
       "</style>\n",
       "<table border=\"1\" class=\"dataframe\">\n",
       "  <thead>\n",
       "    <tr style=\"text-align: right;\">\n",
       "      <th></th>\n",
       "      <th>Place ID</th>\n",
       "      <th>Place Name</th>\n",
       "      <th>Place Category</th>\n",
       "    </tr>\n",
       "  </thead>\n",
       "  <tbody>\n",
       "    <tr>\n",
       "      <th>0</th>\n",
       "      <td>1</td>\n",
       "      <td>Flourish &amp; Blotts</td>\n",
       "      <td>Diagon Alley</td>\n",
       "    </tr>\n",
       "    <tr>\n",
       "      <th>1</th>\n",
       "      <td>2</td>\n",
       "      <td>Gringotts Wizarding Bank</td>\n",
       "      <td>Diagon Alley</td>\n",
       "    </tr>\n",
       "    <tr>\n",
       "      <th>2</th>\n",
       "      <td>3</td>\n",
       "      <td>Knockturn Alley</td>\n",
       "      <td>Diagon Alley</td>\n",
       "    </tr>\n",
       "    <tr>\n",
       "      <th>3</th>\n",
       "      <td>4</td>\n",
       "      <td>Ollivanders</td>\n",
       "      <td>Diagon Alley</td>\n",
       "    </tr>\n",
       "    <tr>\n",
       "      <th>4</th>\n",
       "      <td>5</td>\n",
       "      <td>The Leaky Cauldron</td>\n",
       "      <td>Diagon Alley</td>\n",
       "    </tr>\n",
       "  </tbody>\n",
       "</table>\n",
       "</div>"
      ],
      "text/plain": [
       "   Place ID                Place Name Place Category\n",
       "0         1         Flourish & Blotts   Diagon Alley\n",
       "1         2  Gringotts Wizarding Bank   Diagon Alley\n",
       "2         3           Knockturn Alley   Diagon Alley\n",
       "3         4               Ollivanders   Diagon Alley\n",
       "4         5        The Leaky Cauldron   Diagon Alley"
      ]
     },
     "execution_count": 76,
     "metadata": {},
     "output_type": "execute_result"
    }
   ],
   "source": [
    "places.head()"
   ]
  },
  {
   "cell_type": "code",
   "execution_count": 77,
   "id": "9a11f718",
   "metadata": {},
   "outputs": [
    {
     "data": {
      "text/plain": [
       "(74, 3)"
      ]
     },
     "execution_count": 77,
     "metadata": {},
     "output_type": "execute_result"
    }
   ],
   "source": [
    "places.shape"
   ]
  },
  {
   "cell_type": "code",
   "execution_count": 78,
   "id": "ccfc2134",
   "metadata": {},
   "outputs": [
    {
     "data": {
      "text/html": [
       "<div>\n",
       "<style scoped>\n",
       "    .dataframe tbody tr th:only-of-type {\n",
       "        vertical-align: middle;\n",
       "    }\n",
       "\n",
       "    .dataframe tbody tr th {\n",
       "        vertical-align: top;\n",
       "    }\n",
       "\n",
       "    .dataframe thead th {\n",
       "        text-align: right;\n",
       "    }\n",
       "</style>\n",
       "<table border=\"1\" class=\"dataframe\">\n",
       "  <thead>\n",
       "    <tr style=\"text-align: right;\">\n",
       "      <th></th>\n",
       "      <th>Character ID</th>\n",
       "      <th>Character Name</th>\n",
       "      <th>Species</th>\n",
       "      <th>Gender</th>\n",
       "      <th>House</th>\n",
       "      <th>Patronus</th>\n",
       "      <th>Wand (Wood)</th>\n",
       "      <th>Wand (Core)</th>\n",
       "    </tr>\n",
       "  </thead>\n",
       "  <tbody>\n",
       "    <tr>\n",
       "      <th>0</th>\n",
       "      <td>1</td>\n",
       "      <td>Harry Potter</td>\n",
       "      <td>Human</td>\n",
       "      <td>Male</td>\n",
       "      <td>Gryffindor</td>\n",
       "      <td>Stag</td>\n",
       "      <td>Holly</td>\n",
       "      <td>Phoenix Feather</td>\n",
       "    </tr>\n",
       "    <tr>\n",
       "      <th>1</th>\n",
       "      <td>2</td>\n",
       "      <td>Ron Weasley</td>\n",
       "      <td>Human</td>\n",
       "      <td>Male</td>\n",
       "      <td>Gryffindor</td>\n",
       "      <td>Jack Russell Terrier</td>\n",
       "      <td>NaN</td>\n",
       "      <td>NaN</td>\n",
       "    </tr>\n",
       "    <tr>\n",
       "      <th>2</th>\n",
       "      <td>3</td>\n",
       "      <td>Hermione Granger</td>\n",
       "      <td>Human</td>\n",
       "      <td>Female</td>\n",
       "      <td>Gryffindor</td>\n",
       "      <td>Otter</td>\n",
       "      <td>Vine</td>\n",
       "      <td>Dragon Heartstring</td>\n",
       "    </tr>\n",
       "    <tr>\n",
       "      <th>3</th>\n",
       "      <td>4</td>\n",
       "      <td>Albus Dumbledore</td>\n",
       "      <td>Human</td>\n",
       "      <td>Male</td>\n",
       "      <td>Gryffindor</td>\n",
       "      <td>Phoenix</td>\n",
       "      <td>Elder</td>\n",
       "      <td>Thestral Tail Hair</td>\n",
       "    </tr>\n",
       "    <tr>\n",
       "      <th>4</th>\n",
       "      <td>5</td>\n",
       "      <td>Rubeus Hagrid</td>\n",
       "      <td>Half-Human/Half-Giant</td>\n",
       "      <td>Male</td>\n",
       "      <td>Gryffindor</td>\n",
       "      <td>NaN</td>\n",
       "      <td>Oak</td>\n",
       "      <td>NaN</td>\n",
       "    </tr>\n",
       "  </tbody>\n",
       "</table>\n",
       "</div>"
      ],
      "text/plain": [
       "   Character ID    Character Name                Species  Gender       House  \\\n",
       "0             1      Harry Potter                  Human    Male  Gryffindor   \n",
       "1             2       Ron Weasley                  Human    Male  Gryffindor   \n",
       "2             3  Hermione Granger                  Human  Female  Gryffindor   \n",
       "3             4  Albus Dumbledore                  Human    Male  Gryffindor   \n",
       "4             5     Rubeus Hagrid  Half-Human/Half-Giant    Male  Gryffindor   \n",
       "\n",
       "               Patronus Wand (Wood)         Wand (Core)  \n",
       "0                  Stag       Holly     Phoenix Feather  \n",
       "1  Jack Russell Terrier         NaN                 NaN  \n",
       "2                 Otter        Vine  Dragon Heartstring  \n",
       "3               Phoenix       Elder  Thestral Tail Hair  \n",
       "4                   NaN         Oak                 NaN  "
      ]
     },
     "execution_count": 78,
     "metadata": {},
     "output_type": "execute_result"
    }
   ],
   "source": [
    "characters.head()"
   ]
  },
  {
   "cell_type": "code",
   "execution_count": 79,
   "id": "28c2966a",
   "metadata": {},
   "outputs": [
    {
     "data": {
      "text/plain": [
       "(166, 8)"
      ]
     },
     "execution_count": 79,
     "metadata": {},
     "output_type": "execute_result"
    }
   ],
   "source": [
    "characters.shape"
   ]
  },
  {
   "cell_type": "code",
   "execution_count": 80,
   "id": "b1e50d72",
   "metadata": {},
   "outputs": [],
   "source": [
    "df = pd.DataFrame()"
   ]
  },
  {
   "cell_type": "code",
   "execution_count": 81,
   "id": "66baceb1",
   "metadata": {},
   "outputs": [],
   "source": [
    "df = dialogues"
   ]
  },
  {
   "cell_type": "code",
   "execution_count": 82,
   "id": "48a07606",
   "metadata": {},
   "outputs": [
    {
     "data": {
      "text/html": [
       "<div>\n",
       "<style scoped>\n",
       "    .dataframe tbody tr th:only-of-type {\n",
       "        vertical-align: middle;\n",
       "    }\n",
       "\n",
       "    .dataframe tbody tr th {\n",
       "        vertical-align: top;\n",
       "    }\n",
       "\n",
       "    .dataframe thead th {\n",
       "        text-align: right;\n",
       "    }\n",
       "</style>\n",
       "<table border=\"1\" class=\"dataframe\">\n",
       "  <thead>\n",
       "    <tr style=\"text-align: right;\">\n",
       "      <th></th>\n",
       "      <th>Dialogue ID</th>\n",
       "      <th>Chapter ID</th>\n",
       "      <th>Place ID</th>\n",
       "      <th>Character ID</th>\n",
       "      <th>Dialogue</th>\n",
       "    </tr>\n",
       "  </thead>\n",
       "  <tbody>\n",
       "    <tr>\n",
       "      <th>0</th>\n",
       "      <td>1</td>\n",
       "      <td>1</td>\n",
       "      <td>8</td>\n",
       "      <td>4</td>\n",
       "      <td>I should have known that you would be here...P...</td>\n",
       "    </tr>\n",
       "    <tr>\n",
       "      <th>1</th>\n",
       "      <td>2</td>\n",
       "      <td>1</td>\n",
       "      <td>8</td>\n",
       "      <td>7</td>\n",
       "      <td>Good evening, Professor Dumbledore. Are the ru...</td>\n",
       "    </tr>\n",
       "    <tr>\n",
       "      <th>2</th>\n",
       "      <td>3</td>\n",
       "      <td>1</td>\n",
       "      <td>8</td>\n",
       "      <td>4</td>\n",
       "      <td>I'm afraid so, Professor. The good, and the bad.</td>\n",
       "    </tr>\n",
       "    <tr>\n",
       "      <th>3</th>\n",
       "      <td>4</td>\n",
       "      <td>1</td>\n",
       "      <td>8</td>\n",
       "      <td>7</td>\n",
       "      <td>And the boy?</td>\n",
       "    </tr>\n",
       "    <tr>\n",
       "      <th>4</th>\n",
       "      <td>5</td>\n",
       "      <td>1</td>\n",
       "      <td>8</td>\n",
       "      <td>4</td>\n",
       "      <td>Hagrid is bringing him.</td>\n",
       "    </tr>\n",
       "  </tbody>\n",
       "</table>\n",
       "</div>"
      ],
      "text/plain": [
       "   Dialogue ID  Chapter ID  Place ID  Character ID  \\\n",
       "0            1           1         8             4   \n",
       "1            2           1         8             7   \n",
       "2            3           1         8             4   \n",
       "3            4           1         8             7   \n",
       "4            5           1         8             4   \n",
       "\n",
       "                                            Dialogue  \n",
       "0  I should have known that you would be here...P...  \n",
       "1  Good evening, Professor Dumbledore. Are the ru...  \n",
       "2   I'm afraid so, Professor. The good, and the bad.  \n",
       "3                                       And the boy?  \n",
       "4                            Hagrid is bringing him.  "
      ]
     },
     "execution_count": 82,
     "metadata": {},
     "output_type": "execute_result"
    }
   ],
   "source": [
    "df.head()"
   ]
  },
  {
   "cell_type": "code",
   "execution_count": 83,
   "id": "0f445312",
   "metadata": {},
   "outputs": [],
   "source": [
    "df = pd.merge(df, characters, on='Character ID')"
   ]
  },
  {
   "cell_type": "code",
   "execution_count": 84,
   "id": "4dcf7670",
   "metadata": {},
   "outputs": [
    {
     "data": {
      "text/html": [
       "<div>\n",
       "<style scoped>\n",
       "    .dataframe tbody tr th:only-of-type {\n",
       "        vertical-align: middle;\n",
       "    }\n",
       "\n",
       "    .dataframe tbody tr th {\n",
       "        vertical-align: top;\n",
       "    }\n",
       "\n",
       "    .dataframe thead th {\n",
       "        text-align: right;\n",
       "    }\n",
       "</style>\n",
       "<table border=\"1\" class=\"dataframe\">\n",
       "  <thead>\n",
       "    <tr style=\"text-align: right;\">\n",
       "      <th></th>\n",
       "      <th>Dialogue ID</th>\n",
       "      <th>Chapter ID</th>\n",
       "      <th>Place ID</th>\n",
       "      <th>Character ID</th>\n",
       "      <th>Dialogue</th>\n",
       "      <th>Character Name</th>\n",
       "      <th>Species</th>\n",
       "      <th>Gender</th>\n",
       "      <th>House</th>\n",
       "      <th>Patronus</th>\n",
       "      <th>Wand (Wood)</th>\n",
       "      <th>Wand (Core)</th>\n",
       "    </tr>\n",
       "  </thead>\n",
       "  <tbody>\n",
       "    <tr>\n",
       "      <th>0</th>\n",
       "      <td>1</td>\n",
       "      <td>1</td>\n",
       "      <td>8</td>\n",
       "      <td>4</td>\n",
       "      <td>I should have known that you would be here...P...</td>\n",
       "      <td>Albus Dumbledore</td>\n",
       "      <td>Human</td>\n",
       "      <td>Male</td>\n",
       "      <td>Gryffindor</td>\n",
       "      <td>Phoenix</td>\n",
       "      <td>Elder</td>\n",
       "      <td>Thestral Tail Hair</td>\n",
       "    </tr>\n",
       "    <tr>\n",
       "      <th>1</th>\n",
       "      <td>3</td>\n",
       "      <td>1</td>\n",
       "      <td>8</td>\n",
       "      <td>4</td>\n",
       "      <td>I'm afraid so, Professor. The good, and the bad.</td>\n",
       "      <td>Albus Dumbledore</td>\n",
       "      <td>Human</td>\n",
       "      <td>Male</td>\n",
       "      <td>Gryffindor</td>\n",
       "      <td>Phoenix</td>\n",
       "      <td>Elder</td>\n",
       "      <td>Thestral Tail Hair</td>\n",
       "    </tr>\n",
       "    <tr>\n",
       "      <th>2</th>\n",
       "      <td>5</td>\n",
       "      <td>1</td>\n",
       "      <td>8</td>\n",
       "      <td>4</td>\n",
       "      <td>Hagrid is bringing him.</td>\n",
       "      <td>Albus Dumbledore</td>\n",
       "      <td>Human</td>\n",
       "      <td>Male</td>\n",
       "      <td>Gryffindor</td>\n",
       "      <td>Phoenix</td>\n",
       "      <td>Elder</td>\n",
       "      <td>Thestral Tail Hair</td>\n",
       "    </tr>\n",
       "    <tr>\n",
       "      <th>3</th>\n",
       "      <td>7</td>\n",
       "      <td>1</td>\n",
       "      <td>8</td>\n",
       "      <td>4</td>\n",
       "      <td>Ah, Professor, I would trust Hagrid with my life.</td>\n",
       "      <td>Albus Dumbledore</td>\n",
       "      <td>Human</td>\n",
       "      <td>Male</td>\n",
       "      <td>Gryffindor</td>\n",
       "      <td>Phoenix</td>\n",
       "      <td>Elder</td>\n",
       "      <td>Thestral Tail Hair</td>\n",
       "    </tr>\n",
       "    <tr>\n",
       "      <th>4</th>\n",
       "      <td>9</td>\n",
       "      <td>1</td>\n",
       "      <td>8</td>\n",
       "      <td>4</td>\n",
       "      <td>No problems, I trust, Hagrid?</td>\n",
       "      <td>Albus Dumbledore</td>\n",
       "      <td>Human</td>\n",
       "      <td>Male</td>\n",
       "      <td>Gryffindor</td>\n",
       "      <td>Phoenix</td>\n",
       "      <td>Elder</td>\n",
       "      <td>Thestral Tail Hair</td>\n",
       "    </tr>\n",
       "  </tbody>\n",
       "</table>\n",
       "</div>"
      ],
      "text/plain": [
       "   Dialogue ID  Chapter ID  Place ID  Character ID  \\\n",
       "0            1           1         8             4   \n",
       "1            3           1         8             4   \n",
       "2            5           1         8             4   \n",
       "3            7           1         8             4   \n",
       "4            9           1         8             4   \n",
       "\n",
       "                                            Dialogue    Character Name  \\\n",
       "0  I should have known that you would be here...P...  Albus Dumbledore   \n",
       "1   I'm afraid so, Professor. The good, and the bad.  Albus Dumbledore   \n",
       "2                            Hagrid is bringing him.  Albus Dumbledore   \n",
       "3  Ah, Professor, I would trust Hagrid with my life.  Albus Dumbledore   \n",
       "4                      No problems, I trust, Hagrid?  Albus Dumbledore   \n",
       "\n",
       "  Species Gender       House Patronus Wand (Wood)         Wand (Core)  \n",
       "0   Human   Male  Gryffindor  Phoenix       Elder  Thestral Tail Hair  \n",
       "1   Human   Male  Gryffindor  Phoenix       Elder  Thestral Tail Hair  \n",
       "2   Human   Male  Gryffindor  Phoenix       Elder  Thestral Tail Hair  \n",
       "3   Human   Male  Gryffindor  Phoenix       Elder  Thestral Tail Hair  \n",
       "4   Human   Male  Gryffindor  Phoenix       Elder  Thestral Tail Hair  "
      ]
     },
     "execution_count": 84,
     "metadata": {},
     "output_type": "execute_result"
    }
   ],
   "source": [
    "df.head()"
   ]
  },
  {
   "cell_type": "code",
   "execution_count": 85,
   "id": "08552fe8",
   "metadata": {},
   "outputs": [],
   "source": [
    "df = pd.merge(df, chapters, on='Chapter ID')"
   ]
  },
  {
   "cell_type": "code",
   "execution_count": 86,
   "id": "73828148",
   "metadata": {},
   "outputs": [
    {
     "data": {
      "text/html": [
       "<div>\n",
       "<style scoped>\n",
       "    .dataframe tbody tr th:only-of-type {\n",
       "        vertical-align: middle;\n",
       "    }\n",
       "\n",
       "    .dataframe tbody tr th {\n",
       "        vertical-align: top;\n",
       "    }\n",
       "\n",
       "    .dataframe thead th {\n",
       "        text-align: right;\n",
       "    }\n",
       "</style>\n",
       "<table border=\"1\" class=\"dataframe\">\n",
       "  <thead>\n",
       "    <tr style=\"text-align: right;\">\n",
       "      <th></th>\n",
       "      <th>Dialogue ID</th>\n",
       "      <th>Chapter ID</th>\n",
       "      <th>Place ID</th>\n",
       "      <th>Character ID</th>\n",
       "      <th>Dialogue</th>\n",
       "      <th>Character Name</th>\n",
       "      <th>Species</th>\n",
       "      <th>Gender</th>\n",
       "      <th>House</th>\n",
       "      <th>Patronus</th>\n",
       "      <th>Wand (Wood)</th>\n",
       "      <th>Wand (Core)</th>\n",
       "      <th>Chapter Name</th>\n",
       "      <th>Movie ID</th>\n",
       "      <th>Movie Chapter</th>\n",
       "    </tr>\n",
       "  </thead>\n",
       "  <tbody>\n",
       "    <tr>\n",
       "      <th>0</th>\n",
       "      <td>1</td>\n",
       "      <td>1</td>\n",
       "      <td>8</td>\n",
       "      <td>4</td>\n",
       "      <td>I should have known that you would be here...P...</td>\n",
       "      <td>Albus Dumbledore</td>\n",
       "      <td>Human</td>\n",
       "      <td>Male</td>\n",
       "      <td>Gryffindor</td>\n",
       "      <td>Phoenix</td>\n",
       "      <td>Elder</td>\n",
       "      <td>Thestral Tail Hair</td>\n",
       "      <td>Doorstep Delivery</td>\n",
       "      <td>1</td>\n",
       "      <td>1</td>\n",
       "    </tr>\n",
       "    <tr>\n",
       "      <th>1</th>\n",
       "      <td>3</td>\n",
       "      <td>1</td>\n",
       "      <td>8</td>\n",
       "      <td>4</td>\n",
       "      <td>I'm afraid so, Professor. The good, and the bad.</td>\n",
       "      <td>Albus Dumbledore</td>\n",
       "      <td>Human</td>\n",
       "      <td>Male</td>\n",
       "      <td>Gryffindor</td>\n",
       "      <td>Phoenix</td>\n",
       "      <td>Elder</td>\n",
       "      <td>Thestral Tail Hair</td>\n",
       "      <td>Doorstep Delivery</td>\n",
       "      <td>1</td>\n",
       "      <td>1</td>\n",
       "    </tr>\n",
       "  </tbody>\n",
       "</table>\n",
       "</div>"
      ],
      "text/plain": [
       "   Dialogue ID  Chapter ID  Place ID  Character ID  \\\n",
       "0            1           1         8             4   \n",
       "1            3           1         8             4   \n",
       "\n",
       "                                            Dialogue    Character Name  \\\n",
       "0  I should have known that you would be here...P...  Albus Dumbledore   \n",
       "1   I'm afraid so, Professor. The good, and the bad.  Albus Dumbledore   \n",
       "\n",
       "  Species Gender       House Patronus Wand (Wood)         Wand (Core)  \\\n",
       "0   Human   Male  Gryffindor  Phoenix       Elder  Thestral Tail Hair   \n",
       "1   Human   Male  Gryffindor  Phoenix       Elder  Thestral Tail Hair   \n",
       "\n",
       "        Chapter Name  Movie ID  Movie Chapter  \n",
       "0  Doorstep Delivery         1              1  \n",
       "1  Doorstep Delivery         1              1  "
      ]
     },
     "execution_count": 86,
     "metadata": {},
     "output_type": "execute_result"
    }
   ],
   "source": [
    "df.head(2)"
   ]
  },
  {
   "cell_type": "code",
   "execution_count": 87,
   "id": "191d8e53",
   "metadata": {},
   "outputs": [
    {
     "data": {
      "text/plain": [
       "(7444, 15)"
      ]
     },
     "execution_count": 87,
     "metadata": {},
     "output_type": "execute_result"
    }
   ],
   "source": [
    "df.shape"
   ]
  },
  {
   "cell_type": "code",
   "execution_count": 88,
   "id": "c3373cd3",
   "metadata": {},
   "outputs": [],
   "source": [
    "df = pd.merge(df, places, on='Place ID')"
   ]
  },
  {
   "cell_type": "code",
   "execution_count": 89,
   "id": "e7ff7b2a",
   "metadata": {},
   "outputs": [
    {
     "data": {
      "text/html": [
       "<div>\n",
       "<style scoped>\n",
       "    .dataframe tbody tr th:only-of-type {\n",
       "        vertical-align: middle;\n",
       "    }\n",
       "\n",
       "    .dataframe tbody tr th {\n",
       "        vertical-align: top;\n",
       "    }\n",
       "\n",
       "    .dataframe thead th {\n",
       "        text-align: right;\n",
       "    }\n",
       "</style>\n",
       "<table border=\"1\" class=\"dataframe\">\n",
       "  <thead>\n",
       "    <tr style=\"text-align: right;\">\n",
       "      <th></th>\n",
       "      <th>Movie ID</th>\n",
       "      <th>Movie Title</th>\n",
       "      <th>Release Year</th>\n",
       "      <th>Runtime</th>\n",
       "      <th>Budget</th>\n",
       "      <th>Box Office</th>\n",
       "    </tr>\n",
       "  </thead>\n",
       "  <tbody>\n",
       "    <tr>\n",
       "      <th>0</th>\n",
       "      <td>1</td>\n",
       "      <td>Harry Potter and the Philosopher's Stone</td>\n",
       "      <td>2001</td>\n",
       "      <td>152</td>\n",
       "      <td>$125,000,000</td>\n",
       "      <td>$1,002,000,000</td>\n",
       "    </tr>\n",
       "    <tr>\n",
       "      <th>1</th>\n",
       "      <td>2</td>\n",
       "      <td>Harry Potter and the Chamber of Secrets</td>\n",
       "      <td>2002</td>\n",
       "      <td>161</td>\n",
       "      <td>$100,000,000</td>\n",
       "      <td>$880,300,000</td>\n",
       "    </tr>\n",
       "    <tr>\n",
       "      <th>2</th>\n",
       "      <td>3</td>\n",
       "      <td>Harry Potter and the Prisoner of Azkaban</td>\n",
       "      <td>2004</td>\n",
       "      <td>142</td>\n",
       "      <td>$130,000,000</td>\n",
       "      <td>$796,700,000</td>\n",
       "    </tr>\n",
       "    <tr>\n",
       "      <th>3</th>\n",
       "      <td>4</td>\n",
       "      <td>Harry Potter and the Goblet of Fire</td>\n",
       "      <td>2005</td>\n",
       "      <td>157</td>\n",
       "      <td>$150,000,000</td>\n",
       "      <td>$896,400,000</td>\n",
       "    </tr>\n",
       "    <tr>\n",
       "      <th>4</th>\n",
       "      <td>5</td>\n",
       "      <td>Harry Potter and the Order of the Phoenix</td>\n",
       "      <td>2007</td>\n",
       "      <td>138</td>\n",
       "      <td>$150,000,000</td>\n",
       "      <td>$942,000,000</td>\n",
       "    </tr>\n",
       "    <tr>\n",
       "      <th>5</th>\n",
       "      <td>6</td>\n",
       "      <td>Harry Potter and the Half-Blood Prince</td>\n",
       "      <td>2009</td>\n",
       "      <td>153</td>\n",
       "      <td>$250,000,000</td>\n",
       "      <td>$943,200,000</td>\n",
       "    </tr>\n",
       "    <tr>\n",
       "      <th>6</th>\n",
       "      <td>7</td>\n",
       "      <td>Harry Potter and the Deathly Hallows Part 1</td>\n",
       "      <td>2010</td>\n",
       "      <td>146</td>\n",
       "      <td>$200,000,000</td>\n",
       "      <td>$976,900,000</td>\n",
       "    </tr>\n",
       "    <tr>\n",
       "      <th>7</th>\n",
       "      <td>8</td>\n",
       "      <td>Harry Potter and the Deathly Hallows Part 2</td>\n",
       "      <td>2011</td>\n",
       "      <td>130</td>\n",
       "      <td>$250,000,000</td>\n",
       "      <td>$1,342,000,000</td>\n",
       "    </tr>\n",
       "  </tbody>\n",
       "</table>\n",
       "</div>"
      ],
      "text/plain": [
       "   Movie ID                                  Movie Title  Release Year  \\\n",
       "0         1     Harry Potter and the Philosopher's Stone          2001   \n",
       "1         2      Harry Potter and the Chamber of Secrets          2002   \n",
       "2         3     Harry Potter and the Prisoner of Azkaban          2004   \n",
       "3         4          Harry Potter and the Goblet of Fire          2005   \n",
       "4         5    Harry Potter and the Order of the Phoenix          2007   \n",
       "5         6       Harry Potter and the Half-Blood Prince          2009   \n",
       "6         7  Harry Potter and the Deathly Hallows Part 1          2010   \n",
       "7         8  Harry Potter and the Deathly Hallows Part 2          2011   \n",
       "\n",
       "   Runtime         Budget       Box Office  \n",
       "0      152  $125,000,000   $1,002,000,000   \n",
       "1      161  $100,000,000     $880,300,000   \n",
       "2      142  $130,000,000     $796,700,000   \n",
       "3      157  $150,000,000     $896,400,000   \n",
       "4      138  $150,000,000     $942,000,000   \n",
       "5      153  $250,000,000     $943,200,000   \n",
       "6      146  $200,000,000     $976,900,000   \n",
       "7      130  $250,000,000   $1,342,000,000   "
      ]
     },
     "execution_count": 89,
     "metadata": {},
     "output_type": "execute_result"
    }
   ],
   "source": [
    "movies"
   ]
  },
  {
   "cell_type": "code",
   "execution_count": 90,
   "id": "8527e1bd",
   "metadata": {},
   "outputs": [],
   "source": [
    "df = pd.merge(df, movies, on='Movie ID')"
   ]
  },
  {
   "cell_type": "code",
   "execution_count": 91,
   "id": "19f61295",
   "metadata": {},
   "outputs": [
    {
     "data": {
      "text/html": [
       "<div>\n",
       "<style scoped>\n",
       "    .dataframe tbody tr th:only-of-type {\n",
       "        vertical-align: middle;\n",
       "    }\n",
       "\n",
       "    .dataframe tbody tr th {\n",
       "        vertical-align: top;\n",
       "    }\n",
       "\n",
       "    .dataframe thead th {\n",
       "        text-align: right;\n",
       "    }\n",
       "</style>\n",
       "<table border=\"1\" class=\"dataframe\">\n",
       "  <thead>\n",
       "    <tr style=\"text-align: right;\">\n",
       "      <th></th>\n",
       "      <th>Dialogue ID</th>\n",
       "      <th>Chapter ID</th>\n",
       "      <th>Place ID</th>\n",
       "      <th>Character ID</th>\n",
       "      <th>Dialogue</th>\n",
       "      <th>Character Name</th>\n",
       "      <th>Species</th>\n",
       "      <th>Gender</th>\n",
       "      <th>House</th>\n",
       "      <th>Patronus</th>\n",
       "      <th>...</th>\n",
       "      <th>Chapter Name</th>\n",
       "      <th>Movie ID</th>\n",
       "      <th>Movie Chapter</th>\n",
       "      <th>Place Name</th>\n",
       "      <th>Place Category</th>\n",
       "      <th>Movie Title</th>\n",
       "      <th>Release Year</th>\n",
       "      <th>Runtime</th>\n",
       "      <th>Budget</th>\n",
       "      <th>Box Office</th>\n",
       "    </tr>\n",
       "  </thead>\n",
       "  <tbody>\n",
       "    <tr>\n",
       "      <th>0</th>\n",
       "      <td>1</td>\n",
       "      <td>1</td>\n",
       "      <td>8</td>\n",
       "      <td>4</td>\n",
       "      <td>I should have known that you would be here...P...</td>\n",
       "      <td>Albus Dumbledore</td>\n",
       "      <td>Human</td>\n",
       "      <td>Male</td>\n",
       "      <td>Gryffindor</td>\n",
       "      <td>Phoenix</td>\n",
       "      <td>...</td>\n",
       "      <td>Doorstep Delivery</td>\n",
       "      <td>1</td>\n",
       "      <td>1</td>\n",
       "      <td>4 Privet Drive</td>\n",
       "      <td>Dwellings</td>\n",
       "      <td>Harry Potter and the Philosopher's Stone</td>\n",
       "      <td>2001</td>\n",
       "      <td>152</td>\n",
       "      <td>$125,000,000</td>\n",
       "      <td>$1,002,000,000</td>\n",
       "    </tr>\n",
       "  </tbody>\n",
       "</table>\n",
       "<p>1 rows × 22 columns</p>\n",
       "</div>"
      ],
      "text/plain": [
       "   Dialogue ID  Chapter ID  Place ID  Character ID  \\\n",
       "0            1           1         8             4   \n",
       "\n",
       "                                            Dialogue    Character Name  \\\n",
       "0  I should have known that you would be here...P...  Albus Dumbledore   \n",
       "\n",
       "  Species Gender       House Patronus  ...       Chapter Name Movie ID  \\\n",
       "0   Human   Male  Gryffindor  Phoenix  ...  Doorstep Delivery        1   \n",
       "\n",
       "  Movie Chapter      Place Name  Place Category  \\\n",
       "0             1  4 Privet Drive       Dwellings   \n",
       "\n",
       "                                Movie Title Release Year Runtime  \\\n",
       "0  Harry Potter and the Philosopher's Stone         2001     152   \n",
       "\n",
       "          Budget       Box Office  \n",
       "0  $125,000,000   $1,002,000,000   \n",
       "\n",
       "[1 rows x 22 columns]"
      ]
     },
     "execution_count": 91,
     "metadata": {},
     "output_type": "execute_result"
    }
   ],
   "source": [
    "df.head(1)"
   ]
  },
  {
   "cell_type": "code",
   "execution_count": 92,
   "id": "e5f7d1ee",
   "metadata": {},
   "outputs": [
    {
     "name": "stdout",
     "output_type": "stream",
     "text": [
      "<class 'pandas.core.frame.DataFrame'>\n",
      "RangeIndex: 7444 entries, 0 to 7443\n",
      "Data columns (total 22 columns):\n",
      " #   Column          Non-Null Count  Dtype \n",
      "---  ------          --------------  ----- \n",
      " 0   Dialogue ID     7444 non-null   int64 \n",
      " 1   Chapter ID      7444 non-null   int64 \n",
      " 2   Place ID        7444 non-null   int64 \n",
      " 3   Character ID    7444 non-null   int64 \n",
      " 4   Dialogue        7444 non-null   object\n",
      " 5   Character Name  7444 non-null   object\n",
      " 6   Species         7280 non-null   object\n",
      " 7   Gender          7280 non-null   object\n",
      " 8   House           6527 non-null   object\n",
      " 9   Patronus        4951 non-null   object\n",
      " 10  Wand (Wood)     4600 non-null   object\n",
      " 11  Wand (Core)     4339 non-null   object\n",
      " 12  Chapter Name    7444 non-null   object\n",
      " 13  Movie ID        7444 non-null   int64 \n",
      " 14  Movie Chapter   7444 non-null   int64 \n",
      " 15  Place Name      7444 non-null   object\n",
      " 16  Place Category  7444 non-null   object\n",
      " 17  Movie Title     7444 non-null   object\n",
      " 18  Release Year    7444 non-null   int64 \n",
      " 19  Runtime         7444 non-null   int64 \n",
      " 20  Budget          7444 non-null   object\n",
      " 21  Box Office      7444 non-null   object\n",
      "dtypes: int64(8), object(14)\n",
      "memory usage: 1.2+ MB\n"
     ]
    }
   ],
   "source": [
    "df.info()"
   ]
  },
  {
   "cell_type": "code",
   "execution_count": 93,
   "id": "79ac0737",
   "metadata": {},
   "outputs": [],
   "source": [
    "df = df[['Character Name', 'Dialogue']]"
   ]
  },
  {
   "cell_type": "code",
   "execution_count": 94,
   "id": "e7d15f46",
   "metadata": {},
   "outputs": [
    {
     "data": {
      "text/html": [
       "<div>\n",
       "<style scoped>\n",
       "    .dataframe tbody tr th:only-of-type {\n",
       "        vertical-align: middle;\n",
       "    }\n",
       "\n",
       "    .dataframe tbody tr th {\n",
       "        vertical-align: top;\n",
       "    }\n",
       "\n",
       "    .dataframe thead th {\n",
       "        text-align: right;\n",
       "    }\n",
       "</style>\n",
       "<table border=\"1\" class=\"dataframe\">\n",
       "  <thead>\n",
       "    <tr style=\"text-align: right;\">\n",
       "      <th></th>\n",
       "      <th>Character Name</th>\n",
       "      <th>Dialogue</th>\n",
       "    </tr>\n",
       "  </thead>\n",
       "  <tbody>\n",
       "    <tr>\n",
       "      <th>0</th>\n",
       "      <td>Albus Dumbledore</td>\n",
       "      <td>I should have known that you would be here...P...</td>\n",
       "    </tr>\n",
       "    <tr>\n",
       "      <th>1</th>\n",
       "      <td>Albus Dumbledore</td>\n",
       "      <td>I'm afraid so, Professor. The good, and the bad.</td>\n",
       "    </tr>\n",
       "    <tr>\n",
       "      <th>2</th>\n",
       "      <td>Albus Dumbledore</td>\n",
       "      <td>Hagrid is bringing him.</td>\n",
       "    </tr>\n",
       "    <tr>\n",
       "      <th>3</th>\n",
       "      <td>Albus Dumbledore</td>\n",
       "      <td>Ah, Professor, I would trust Hagrid with my life.</td>\n",
       "    </tr>\n",
       "    <tr>\n",
       "      <th>4</th>\n",
       "      <td>Albus Dumbledore</td>\n",
       "      <td>No problems, I trust, Hagrid?</td>\n",
       "    </tr>\n",
       "  </tbody>\n",
       "</table>\n",
       "</div>"
      ],
      "text/plain": [
       "     Character Name                                           Dialogue\n",
       "0  Albus Dumbledore  I should have known that you would be here...P...\n",
       "1  Albus Dumbledore   I'm afraid so, Professor. The good, and the bad.\n",
       "2  Albus Dumbledore                            Hagrid is bringing him.\n",
       "3  Albus Dumbledore  Ah, Professor, I would trust Hagrid with my life.\n",
       "4  Albus Dumbledore                      No problems, I trust, Hagrid?"
      ]
     },
     "execution_count": 94,
     "metadata": {},
     "output_type": "execute_result"
    }
   ],
   "source": [
    "df.head()"
   ]
  },
  {
   "cell_type": "code",
   "execution_count": 95,
   "id": "427505d0",
   "metadata": {},
   "outputs": [
    {
     "data": {
      "text/plain": [
       "Character Name\n",
       "Harry Potter        1922\n",
       "Ron Weasley          865\n",
       "Hermione Granger     848\n",
       "Albus Dumbledore     474\n",
       "Rubeus Hagrid        228\n",
       "                    ... \n",
       "Dilys Derwent          1\n",
       "Waiter                 1\n",
       "Crowd                  1\n",
       "Pixie                  1\n",
       "Photographer           1\n",
       "Name: count, Length: 166, dtype: int64"
      ]
     },
     "execution_count": 95,
     "metadata": {},
     "output_type": "execute_result"
    }
   ],
   "source": [
    "df['Character Name'].value_counts()"
   ]
  },
  {
   "cell_type": "code",
   "execution_count": 96,
   "id": "4f0d0e97",
   "metadata": {},
   "outputs": [
    {
     "data": {
      "text/plain": [
       "Character Name        Dialogue                                                                                                                                             \n",
       "Aberforth Dumbledore  Did he now? Nice job? Easy?                                                                                                                              1\n",
       "                      You bloody fools! What were you thinking coming here? Do you have any idea how dangerous it is --                                                        1\n",
       "                      You'll see soon enough.                                                                                                                                  1\n",
       "                      You know what to do...                                                                                                                                   1\n",
       "                      You don't strike me as a fool, Mr. Potter. So I'll ask you again. There must be a reason. Why do you trust anything my brother ever said to you? Why?    1\n",
       "                                                                                                                                                                              ..\n",
       "Xenophilius Lovegood  Excuse me.                                                                                                                                               1\n",
       "                      Did, didn't I?  How silly of me.                                                                                                                         1\n",
       "                      Ah.  Help.  I see.  Yes, well, the thing is, helping Harry Potter, rather dangerous these days...                                                        1\n",
       "Zacharias Smith       How do we know You-Know-Who's really back?                                                                                                               1\n",
       "                      Oh please. Professor Lockhart taught us that in second year.                                                                                             1\n",
       "Name: count, Length: 7190, dtype: int64"
      ]
     },
     "execution_count": 96,
     "metadata": {},
     "output_type": "execute_result"
    }
   ],
   "source": [
    "df.groupby('Character Name')['Dialogue'].value_counts()"
   ]
  },
  {
   "cell_type": "code",
   "execution_count": 97,
   "id": "b644dceb",
   "metadata": {},
   "outputs": [],
   "source": [
    "df = df.groupby('Character Name')['Dialogue'].apply(lambda x: ' '.join(x)).reset_index()"
   ]
  },
  {
   "cell_type": "code",
   "execution_count": 98,
   "id": "3111822d",
   "metadata": {},
   "outputs": [
    {
     "data": {
      "text/html": [
       "<div>\n",
       "<style scoped>\n",
       "    .dataframe tbody tr th:only-of-type {\n",
       "        vertical-align: middle;\n",
       "    }\n",
       "\n",
       "    .dataframe tbody tr th {\n",
       "        vertical-align: top;\n",
       "    }\n",
       "\n",
       "    .dataframe thead th {\n",
       "        text-align: right;\n",
       "    }\n",
       "</style>\n",
       "<table border=\"1\" class=\"dataframe\">\n",
       "  <thead>\n",
       "    <tr style=\"text-align: right;\">\n",
       "      <th></th>\n",
       "      <th>Character Name</th>\n",
       "      <th>Dialogue</th>\n",
       "    </tr>\n",
       "  </thead>\n",
       "  <tbody>\n",
       "    <tr>\n",
       "      <th>0</th>\n",
       "      <td>Aberforth Dumbledore</td>\n",
       "      <td>In here, Potter. You bloody fools! What were y...</td>\n",
       "    </tr>\n",
       "    <tr>\n",
       "      <th>1</th>\n",
       "      <td>Alastor Moody</td>\n",
       "      <td>Yeah, he's ruddy gorgeous.  What say we get un...</td>\n",
       "    </tr>\n",
       "    <tr>\n",
       "      <th>2</th>\n",
       "      <td>Albus Dumbledore</td>\n",
       "      <td>I should have known that you would be here...P...</td>\n",
       "    </tr>\n",
       "    <tr>\n",
       "      <th>3</th>\n",
       "      <td>Albus Potter</td>\n",
       "      <td>Will there really be thestrals pulling the car...</td>\n",
       "    </tr>\n",
       "    <tr>\n",
       "      <th>4</th>\n",
       "      <td>Alecto Carrow</td>\n",
       "      <td>Put a smile on, Miss Reynolds. Wouldn't want m...</td>\n",
       "    </tr>\n",
       "  </tbody>\n",
       "</table>\n",
       "</div>"
      ],
      "text/plain": [
       "         Character Name                                           Dialogue\n",
       "0  Aberforth Dumbledore  In here, Potter. You bloody fools! What were y...\n",
       "1         Alastor Moody  Yeah, he's ruddy gorgeous.  What say we get un...\n",
       "2      Albus Dumbledore  I should have known that you would be here...P...\n",
       "3          Albus Potter  Will there really be thestrals pulling the car...\n",
       "4         Alecto Carrow  Put a smile on, Miss Reynolds. Wouldn't want m..."
      ]
     },
     "execution_count": 98,
     "metadata": {},
     "output_type": "execute_result"
    }
   ],
   "source": [
    "df.head()"
   ]
  },
  {
   "cell_type": "code",
   "execution_count": 99,
   "id": "4221b409",
   "metadata": {},
   "outputs": [],
   "source": [
    "df['Dialogue'] = df['Dialogue'].apply(lambda x: x.lower())"
   ]
  },
  {
   "cell_type": "code",
   "execution_count": 100,
   "id": "757d117e",
   "metadata": {},
   "outputs": [
    {
     "data": {
      "text/html": [
       "<div>\n",
       "<style scoped>\n",
       "    .dataframe tbody tr th:only-of-type {\n",
       "        vertical-align: middle;\n",
       "    }\n",
       "\n",
       "    .dataframe tbody tr th {\n",
       "        vertical-align: top;\n",
       "    }\n",
       "\n",
       "    .dataframe thead th {\n",
       "        text-align: right;\n",
       "    }\n",
       "</style>\n",
       "<table border=\"1\" class=\"dataframe\">\n",
       "  <thead>\n",
       "    <tr style=\"text-align: right;\">\n",
       "      <th></th>\n",
       "      <th>Character Name</th>\n",
       "      <th>Dialogue</th>\n",
       "    </tr>\n",
       "  </thead>\n",
       "  <tbody>\n",
       "    <tr>\n",
       "      <th>0</th>\n",
       "      <td>Aberforth Dumbledore</td>\n",
       "      <td>in here, potter. you bloody fools! what were y...</td>\n",
       "    </tr>\n",
       "    <tr>\n",
       "      <th>1</th>\n",
       "      <td>Alastor Moody</td>\n",
       "      <td>yeah, he's ruddy gorgeous.  what say we get un...</td>\n",
       "    </tr>\n",
       "    <tr>\n",
       "      <th>2</th>\n",
       "      <td>Albus Dumbledore</td>\n",
       "      <td>i should have known that you would be here...p...</td>\n",
       "    </tr>\n",
       "    <tr>\n",
       "      <th>3</th>\n",
       "      <td>Albus Potter</td>\n",
       "      <td>will there really be thestrals pulling the car...</td>\n",
       "    </tr>\n",
       "    <tr>\n",
       "      <th>4</th>\n",
       "      <td>Alecto Carrow</td>\n",
       "      <td>put a smile on, miss reynolds. wouldn't want m...</td>\n",
       "    </tr>\n",
       "  </tbody>\n",
       "</table>\n",
       "</div>"
      ],
      "text/plain": [
       "         Character Name                                           Dialogue\n",
       "0  Aberforth Dumbledore  in here, potter. you bloody fools! what were y...\n",
       "1         Alastor Moody  yeah, he's ruddy gorgeous.  what say we get un...\n",
       "2      Albus Dumbledore  i should have known that you would be here...p...\n",
       "3          Albus Potter  will there really be thestrals pulling the car...\n",
       "4         Alecto Carrow  put a smile on, miss reynolds. wouldn't want m..."
      ]
     },
     "execution_count": 100,
     "metadata": {},
     "output_type": "execute_result"
    }
   ],
   "source": [
    "df.head()"
   ]
  },
  {
   "cell_type": "code",
   "execution_count": 101,
   "id": "79384beb",
   "metadata": {},
   "outputs": [
    {
     "data": {
      "text/plain": [
       "(166, 2)"
      ]
     },
     "execution_count": 101,
     "metadata": {},
     "output_type": "execute_result"
    }
   ],
   "source": [
    "df.shape"
   ]
  },
  {
   "cell_type": "code",
   "execution_count": 102,
   "id": "3a026a33",
   "metadata": {},
   "outputs": [],
   "source": [
    "df['Number of Words'] = df['Dialogue'].apply(lambda x: len(x.split()))"
   ]
  },
  {
   "cell_type": "code",
   "execution_count": 103,
   "id": "be2a6c3d",
   "metadata": {},
   "outputs": [
    {
     "data": {
      "text/html": [
       "<div>\n",
       "<style scoped>\n",
       "    .dataframe tbody tr th:only-of-type {\n",
       "        vertical-align: middle;\n",
       "    }\n",
       "\n",
       "    .dataframe tbody tr th {\n",
       "        vertical-align: top;\n",
       "    }\n",
       "\n",
       "    .dataframe thead th {\n",
       "        text-align: right;\n",
       "    }\n",
       "</style>\n",
       "<table border=\"1\" class=\"dataframe\">\n",
       "  <thead>\n",
       "    <tr style=\"text-align: right;\">\n",
       "      <th></th>\n",
       "      <th>Character Name</th>\n",
       "      <th>Dialogue</th>\n",
       "      <th>Number of Words</th>\n",
       "    </tr>\n",
       "  </thead>\n",
       "  <tbody>\n",
       "    <tr>\n",
       "      <th>0</th>\n",
       "      <td>Aberforth Dumbledore</td>\n",
       "      <td>in here, potter. you bloody fools! what were y...</td>\n",
       "      <td>261</td>\n",
       "    </tr>\n",
       "    <tr>\n",
       "      <th>1</th>\n",
       "      <td>Alastor Moody</td>\n",
       "      <td>yeah, he's ruddy gorgeous.  what say we get un...</td>\n",
       "      <td>1196</td>\n",
       "    </tr>\n",
       "    <tr>\n",
       "      <th>2</th>\n",
       "      <td>Albus Dumbledore</td>\n",
       "      <td>i should have known that you would be here...p...</td>\n",
       "      <td>7653</td>\n",
       "    </tr>\n",
       "    <tr>\n",
       "      <th>3</th>\n",
       "      <td>Albus Potter</td>\n",
       "      <td>will there really be thestrals pulling the car...</td>\n",
       "      <td>23</td>\n",
       "    </tr>\n",
       "    <tr>\n",
       "      <th>4</th>\n",
       "      <td>Alecto Carrow</td>\n",
       "      <td>put a smile on, miss reynolds. wouldn't want m...</td>\n",
       "      <td>20</td>\n",
       "    </tr>\n",
       "  </tbody>\n",
       "</table>\n",
       "</div>"
      ],
      "text/plain": [
       "         Character Name                                           Dialogue  \\\n",
       "0  Aberforth Dumbledore  in here, potter. you bloody fools! what were y...   \n",
       "1         Alastor Moody  yeah, he's ruddy gorgeous.  what say we get un...   \n",
       "2      Albus Dumbledore  i should have known that you would be here...p...   \n",
       "3          Albus Potter  will there really be thestrals pulling the car...   \n",
       "4         Alecto Carrow  put a smile on, miss reynolds. wouldn't want m...   \n",
       "\n",
       "   Number of Words  \n",
       "0              261  \n",
       "1             1196  \n",
       "2             7653  \n",
       "3               23  \n",
       "4               20  "
      ]
     },
     "execution_count": 103,
     "metadata": {},
     "output_type": "execute_result"
    }
   ],
   "source": [
    "df.head()"
   ]
  },
  {
   "cell_type": "code",
   "execution_count": 104,
   "id": "57ea82db",
   "metadata": {},
   "outputs": [
    {
     "data": {
      "text/plain": [
       "(166, 3)"
      ]
     },
     "execution_count": 104,
     "metadata": {},
     "output_type": "execute_result"
    }
   ],
   "source": [
    "df.shape"
   ]
  },
  {
   "cell_type": "code",
   "execution_count": 105,
   "id": "46d1ec9e",
   "metadata": {},
   "outputs": [],
   "source": [
    "new_df = df[df['Number of Words'] > 52].sort_values('Number of Words', ascending=False)"
   ]
  },
  {
   "cell_type": "code",
   "execution_count": 106,
   "id": "34eb02b3",
   "metadata": {},
   "outputs": [
    {
     "data": {
      "text/plain": [
       "(89, 3)"
      ]
     },
     "execution_count": 106,
     "metadata": {},
     "output_type": "execute_result"
    }
   ],
   "source": [
    "new_df.shape"
   ]
  },
  {
   "cell_type": "code",
   "execution_count": 107,
   "id": "8d6d8d48",
   "metadata": {},
   "outputs": [
    {
     "data": {
      "text/html": [
       "<div>\n",
       "<style scoped>\n",
       "    .dataframe tbody tr th:only-of-type {\n",
       "        vertical-align: middle;\n",
       "    }\n",
       "\n",
       "    .dataframe tbody tr th {\n",
       "        vertical-align: top;\n",
       "    }\n",
       "\n",
       "    .dataframe thead th {\n",
       "        text-align: right;\n",
       "    }\n",
       "</style>\n",
       "<table border=\"1\" class=\"dataframe\">\n",
       "  <thead>\n",
       "    <tr style=\"text-align: right;\">\n",
       "      <th></th>\n",
       "      <th>Character Name</th>\n",
       "      <th>Dialogue</th>\n",
       "      <th>Number of Words</th>\n",
       "    </tr>\n",
       "  </thead>\n",
       "  <tbody>\n",
       "    <tr>\n",
       "      <th>66</th>\n",
       "      <td>Harry Potter</td>\n",
       "      <td>yes, aunt petunia. yes, uncle vernon. he's asl...</td>\n",
       "      <td>13970</td>\n",
       "    </tr>\n",
       "    <tr>\n",
       "      <th>2</th>\n",
       "      <td>Albus Dumbledore</td>\n",
       "      <td>i should have known that you would be here...p...</td>\n",
       "      <td>7653</td>\n",
       "    </tr>\n",
       "    <tr>\n",
       "      <th>68</th>\n",
       "      <td>Hermione Granger</td>\n",
       "      <td>it's not real, the ceiling. it's just bewitche...</td>\n",
       "      <td>7634</td>\n",
       "    </tr>\n",
       "    <tr>\n",
       "      <th>129</th>\n",
       "      <td>Ron Weasley</td>\n",
       "      <td>mental that one, i'm telling you. there isn't ...</td>\n",
       "      <td>6916</td>\n",
       "    </tr>\n",
       "    <tr>\n",
       "      <th>131</th>\n",
       "      <td>Rubeus Hagrid</td>\n",
       "      <td>professor dumbledore, sir. professor mcgonagal...</td>\n",
       "      <td>3473</td>\n",
       "    </tr>\n",
       "  </tbody>\n",
       "</table>\n",
       "</div>"
      ],
      "text/plain": [
       "       Character Name                                           Dialogue  \\\n",
       "66       Harry Potter  yes, aunt petunia. yes, uncle vernon. he's asl...   \n",
       "2    Albus Dumbledore  i should have known that you would be here...p...   \n",
       "68   Hermione Granger  it's not real, the ceiling. it's just bewitche...   \n",
       "129       Ron Weasley  mental that one, i'm telling you. there isn't ...   \n",
       "131     Rubeus Hagrid  professor dumbledore, sir. professor mcgonagal...   \n",
       "\n",
       "     Number of Words  \n",
       "66             13970  \n",
       "2               7653  \n",
       "68              7634  \n",
       "129             6916  \n",
       "131             3473  "
      ]
     },
     "execution_count": 107,
     "metadata": {},
     "output_type": "execute_result"
    }
   ],
   "source": [
    "new_df.head()"
   ]
  },
  {
   "cell_type": "code",
   "execution_count": 108,
   "id": "dae485b4",
   "metadata": {},
   "outputs": [],
   "source": [
    "from sklearn.feature_extraction.text import CountVectorizer\n",
    "cv = CountVectorizer(stop_words='english', max_features=2500)"
   ]
  },
  {
   "cell_type": "code",
   "execution_count": 109,
   "id": "6a50d81e",
   "metadata": {},
   "outputs": [],
   "source": [
    "embeddings = cv.fit_transform(new_df['Dialogue']).toarray()"
   ]
  },
  {
   "cell_type": "code",
   "execution_count": 110,
   "id": "ab77d11a",
   "metadata": {},
   "outputs": [
    {
     "data": {
      "text/plain": [
       "array([[0, 0, 0, ..., 0, 0, 1],\n",
       "       [0, 0, 0, ..., 0, 0, 0],\n",
       "       [0, 0, 0, ..., 0, 0, 0],\n",
       "       ...,\n",
       "       [0, 0, 0, ..., 0, 0, 0],\n",
       "       [0, 0, 0, ..., 0, 0, 0],\n",
       "       [0, 0, 0, ..., 0, 0, 0]], dtype=int64)"
      ]
     },
     "execution_count": 110,
     "metadata": {},
     "output_type": "execute_result"
    }
   ],
   "source": [
    "embeddings"
   ]
  },
  {
   "cell_type": "code",
   "execution_count": 111,
   "id": "049afb52",
   "metadata": {},
   "outputs": [
    {
     "data": {
      "text/plain": [
       "(89, 2500)"
      ]
     },
     "execution_count": 111,
     "metadata": {},
     "output_type": "execute_result"
    }
   ],
   "source": [
    "embeddings.shape"
   ]
  },
  {
   "cell_type": "code",
   "execution_count": 112,
   "id": "5315d2d2",
   "metadata": {},
   "outputs": [],
   "source": [
    "embeddings = embeddings.astype('float64')"
   ]
  },
  {
   "cell_type": "code",
   "execution_count": 113,
   "id": "4c7d8707",
   "metadata": {},
   "outputs": [],
   "source": [
    "from sklearn.manifold import TSNE"
   ]
  },
  {
   "cell_type": "code",
   "execution_count": 114,
   "id": "e1ffed55",
   "metadata": {},
   "outputs": [
    {
     "name": "stdout",
     "output_type": "stream",
     "text": [
      "[t-SNE] Computing 88 nearest neighbors...\n",
      "[t-SNE] Indexed 89 samples in 0.002s...\n",
      "[t-SNE] Computed neighbors for 89 samples in 0.085s...\n",
      "[t-SNE] Computed conditional probabilities for sample 89 / 89\n",
      "[t-SNE] Mean sigma: 5.566522\n",
      "[t-SNE] KL divergence after 250 iterations with early exaggeration: 66.584267\n",
      "[t-SNE] KL divergence after 900 iterations: 0.295746\n"
     ]
    }
   ],
   "source": [
    "tsne = TSNE(n_components=2, verbose=1, random_state=123)\n",
    "z = tsne.fit_transform(embeddings)"
   ]
  },
  {
   "cell_type": "code",
   "execution_count": 115,
   "id": "bc308222",
   "metadata": {},
   "outputs": [
    {
     "data": {
      "text/plain": [
       "(89, 2)"
      ]
     },
     "execution_count": 115,
     "metadata": {},
     "output_type": "execute_result"
    }
   ],
   "source": [
    "z.shape"
   ]
  },
  {
   "cell_type": "code",
   "execution_count": 116,
   "id": "ee1c49f7",
   "metadata": {},
   "outputs": [
    {
     "data": {
      "text/plain": [
       "array([[-9.08325315e-01,  1.61770201e+00],\n",
       "       [-3.50323111e-01,  1.10993218e+00],\n",
       "       [-7.78027534e-01,  1.49921000e+00],\n",
       "       [-7.63604522e-01,  1.47225845e+00],\n",
       "       [-4.01807189e-01,  1.07415831e+00],\n",
       "       [ 2.49225879e+00,  4.20629606e-02],\n",
       "       [-3.86496037e-01, -1.12659140e-02],\n",
       "       [-1.86080277e+00, -3.45634794e+00],\n",
       "       [-1.24008864e-01,  8.19526851e-01],\n",
       "       [ 6.35897756e-01,  5.16246259e-01],\n",
       "       [ 2.12801790e+00, -6.89058974e-02],\n",
       "       [ 1.87377989e+00, -1.43815801e-01],\n",
       "       [ 9.45282578e-02,  4.02449965e-01],\n",
       "       [ 2.96951938e+00, -3.36659694e+00],\n",
       "       [ 2.51566678e-01,  4.31118429e-01],\n",
       "       [-1.51647401e+00, -3.57708716e+00],\n",
       "       [ 4.98922139e-01, -9.59446132e-01],\n",
       "       [-3.68036896e-01, -1.63063908e+00],\n",
       "       [ 2.16063857e+00, -2.45934129e-01],\n",
       "       [ 2.63421774e-01,  5.46709485e-02],\n",
       "       [ 1.75697792e+00,  2.59941369e-01],\n",
       "       [ 2.14934540e+00, -5.17132223e-01],\n",
       "       [-1.28886676e+00, -2.15341377e+00],\n",
       "       [-7.50959396e-01, -8.00007999e-01],\n",
       "       [ 6.59289002e-01, -8.77764344e-01],\n",
       "       [ 3.73454005e-01,  8.77586901e-02],\n",
       "       [ 4.74226475e-01, -8.76284763e-02],\n",
       "       [-6.62643850e-01, -7.59212375e-01],\n",
       "       [ 7.81624615e-01, -5.09261799e+00],\n",
       "       [-7.09236801e-01, -1.83363414e+00],\n",
       "       [-4.54603076e-01, -4.24704409e+00],\n",
       "       [-5.12172401e-01, -3.93892932e+00],\n",
       "       [-6.04938328e-01, -2.56887078e+00],\n",
       "       [-9.98205304e-01, -3.67125082e+00],\n",
       "       [-5.61328113e-01, -3.22726202e+00],\n",
       "       [ 2.73485518e+00, -2.21661901e+00],\n",
       "       [ 1.93238628e+00, -4.37781286e+00],\n",
       "       [ 1.18534720e+00, -1.48517716e+00],\n",
       "       [ 2.14423251e+00, -2.15813041e+00],\n",
       "       [-3.91387671e-01, -2.89944291e+00],\n",
       "       [ 5.95883787e-01, -1.45779097e+00],\n",
       "       [ 4.50181723e-01, -4.53625631e+00],\n",
       "       [-8.73302937e-01, -2.35032749e+00],\n",
       "       [ 1.63328063e+00, -2.11701488e+00],\n",
       "       [ 3.28179938e-03, -4.58540154e+00],\n",
       "       [-1.40515700e-01, -3.57111692e+00],\n",
       "       [ 2.11967421e+00, -1.58840597e+00],\n",
       "       [ 1.54146001e-01, -1.87922287e+00],\n",
       "       [ 1.65574193e+00, -1.76799440e+00],\n",
       "       [ 1.39282405e+00, -4.05006933e+00],\n",
       "       [ 2.00071171e-01, -2.40879822e+00],\n",
       "       [ 9.05841410e-01, -3.77525449e+00],\n",
       "       [ 7.71600485e-01, -1.95848489e+00],\n",
       "       [ 6.27367735e-01, -3.64904356e+00],\n",
       "       [ 1.57941210e+00, -3.43667316e+00],\n",
       "       [ 1.59101796e+00, -4.85606527e+00],\n",
       "       [ 4.44093853e-01, -3.52741718e+00],\n",
       "       [ 2.52594328e+00, -4.20099545e+00],\n",
       "       [ 1.01456463e+00, -4.42803240e+00],\n",
       "       [ 2.29958272e+00, -3.50057101e+00],\n",
       "       [ 1.83262587e+00, -2.97716546e+00],\n",
       "       [ 1.75993228e+00, -3.75796986e+00],\n",
       "       [ 2.41997075e+00, -2.69768786e+00],\n",
       "       [ 1.28126013e+00, -3.29196024e+00],\n",
       "       [ 4.80874389e-01, -3.05311942e+00],\n",
       "       [ 7.68710434e-01, -2.58263612e+00],\n",
       "       [ 4.46129620e-01, -2.75896049e+00],\n",
       "       [ 7.97351956e-01, -2.01168823e+00],\n",
       "       [ 1.31833017e+00, -3.18387461e+00],\n",
       "       [ 1.02215481e+00, -2.69763350e+00],\n",
       "       [ 7.27064431e-01, -2.96559811e+00],\n",
       "       [ 7.40352333e-01, -2.26904416e+00],\n",
       "       [ 1.01666772e+00, -2.97059774e+00],\n",
       "       [ 1.01133490e+00, -2.95888448e+00],\n",
       "       [ 1.70838642e+00, -2.93611336e+00],\n",
       "       [ 8.00146461e-01, -2.77410054e+00],\n",
       "       [ 4.24430758e-01, -3.06482363e+00],\n",
       "       [ 1.27424622e+00, -2.66661739e+00],\n",
       "       [ 7.51874983e-01, -3.15823030e+00],\n",
       "       [ 9.30563927e-01, -3.04682803e+00],\n",
       "       [ 1.02361822e+00, -3.07394695e+00],\n",
       "       [ 1.03479934e+00, -3.07345390e+00],\n",
       "       [ 9.61692929e-01, -3.10867453e+00],\n",
       "       [ 7.76431143e-01, -3.18868518e+00],\n",
       "       [ 9.52391088e-01, -3.06549048e+00],\n",
       "       [ 3.05989313e+00, -2.70338082e+00],\n",
       "       [ 9.54993606e-01, -3.09979081e+00],\n",
       "       [ 9.27559972e-01, -3.13652062e+00],\n",
       "       [ 8.17775607e-01, -2.94988608e+00]], dtype=float32)"
      ]
     },
     "execution_count": 116,
     "metadata": {},
     "output_type": "execute_result"
    }
   ],
   "source": [
    "z"
   ]
  },
  {
   "cell_type": "code",
   "execution_count": 117,
   "id": "cc7b083f",
   "metadata": {},
   "outputs": [],
   "source": [
    "new_df['x'] = z.T[0]\n",
    "new_df['y'] = z.T[1]"
   ]
  },
  {
   "cell_type": "code",
   "execution_count": 118,
   "id": "5eba3021",
   "metadata": {},
   "outputs": [
    {
     "data": {
      "text/html": [
       "<div>\n",
       "<style scoped>\n",
       "    .dataframe tbody tr th:only-of-type {\n",
       "        vertical-align: middle;\n",
       "    }\n",
       "\n",
       "    .dataframe tbody tr th {\n",
       "        vertical-align: top;\n",
       "    }\n",
       "\n",
       "    .dataframe thead th {\n",
       "        text-align: right;\n",
       "    }\n",
       "</style>\n",
       "<table border=\"1\" class=\"dataframe\">\n",
       "  <thead>\n",
       "    <tr style=\"text-align: right;\">\n",
       "      <th></th>\n",
       "      <th>Character Name</th>\n",
       "      <th>Dialogue</th>\n",
       "      <th>Number of Words</th>\n",
       "      <th>x</th>\n",
       "      <th>y</th>\n",
       "    </tr>\n",
       "  </thead>\n",
       "  <tbody>\n",
       "    <tr>\n",
       "      <th>66</th>\n",
       "      <td>Harry Potter</td>\n",
       "      <td>yes, aunt petunia. yes, uncle vernon. he's asl...</td>\n",
       "      <td>13970</td>\n",
       "      <td>-0.908325</td>\n",
       "      <td>1.617702</td>\n",
       "    </tr>\n",
       "    <tr>\n",
       "      <th>2</th>\n",
       "      <td>Albus Dumbledore</td>\n",
       "      <td>i should have known that you would be here...p...</td>\n",
       "      <td>7653</td>\n",
       "      <td>-0.350323</td>\n",
       "      <td>1.109932</td>\n",
       "    </tr>\n",
       "    <tr>\n",
       "      <th>68</th>\n",
       "      <td>Hermione Granger</td>\n",
       "      <td>it's not real, the ceiling. it's just bewitche...</td>\n",
       "      <td>7634</td>\n",
       "      <td>-0.778028</td>\n",
       "      <td>1.499210</td>\n",
       "    </tr>\n",
       "    <tr>\n",
       "      <th>129</th>\n",
       "      <td>Ron Weasley</td>\n",
       "      <td>mental that one, i'm telling you. there isn't ...</td>\n",
       "      <td>6916</td>\n",
       "      <td>-0.763605</td>\n",
       "      <td>1.472258</td>\n",
       "    </tr>\n",
       "    <tr>\n",
       "      <th>131</th>\n",
       "      <td>Rubeus Hagrid</td>\n",
       "      <td>professor dumbledore, sir. professor mcgonagal...</td>\n",
       "      <td>3473</td>\n",
       "      <td>-0.401807</td>\n",
       "      <td>1.074158</td>\n",
       "    </tr>\n",
       "  </tbody>\n",
       "</table>\n",
       "</div>"
      ],
      "text/plain": [
       "       Character Name                                           Dialogue  \\\n",
       "66       Harry Potter  yes, aunt petunia. yes, uncle vernon. he's asl...   \n",
       "2    Albus Dumbledore  i should have known that you would be here...p...   \n",
       "68   Hermione Granger  it's not real, the ceiling. it's just bewitche...   \n",
       "129       Ron Weasley  mental that one, i'm telling you. there isn't ...   \n",
       "131     Rubeus Hagrid  professor dumbledore, sir. professor mcgonagal...   \n",
       "\n",
       "     Number of Words         x         y  \n",
       "66             13970 -0.908325  1.617702  \n",
       "2               7653 -0.350323  1.109932  \n",
       "68              7634 -0.778028  1.499210  \n",
       "129             6916 -0.763605  1.472258  \n",
       "131             3473 -0.401807  1.074158  "
      ]
     },
     "execution_count": 118,
     "metadata": {},
     "output_type": "execute_result"
    }
   ],
   "source": [
    "new_df.head()"
   ]
  },
  {
   "cell_type": "code",
   "execution_count": 119,
   "id": "24b7e675",
   "metadata": {},
   "outputs": [],
   "source": [
    "new_df.rename(columns={'x': 'X', 'y': 'Y'}, inplace=True)"
   ]
  },
  {
   "cell_type": "code",
   "execution_count": 120,
   "id": "ea008b91",
   "metadata": {},
   "outputs": [
    {
     "data": {
      "text/html": [
       "<div>\n",
       "<style scoped>\n",
       "    .dataframe tbody tr th:only-of-type {\n",
       "        vertical-align: middle;\n",
       "    }\n",
       "\n",
       "    .dataframe tbody tr th {\n",
       "        vertical-align: top;\n",
       "    }\n",
       "\n",
       "    .dataframe thead th {\n",
       "        text-align: right;\n",
       "    }\n",
       "</style>\n",
       "<table border=\"1\" class=\"dataframe\">\n",
       "  <thead>\n",
       "    <tr style=\"text-align: right;\">\n",
       "      <th></th>\n",
       "      <th>Character Name</th>\n",
       "      <th>Dialogue</th>\n",
       "      <th>Number of Words</th>\n",
       "      <th>X</th>\n",
       "      <th>Y</th>\n",
       "    </tr>\n",
       "  </thead>\n",
       "  <tbody>\n",
       "    <tr>\n",
       "      <th>66</th>\n",
       "      <td>Harry Potter</td>\n",
       "      <td>yes, aunt petunia. yes, uncle vernon. he's asl...</td>\n",
       "      <td>13970</td>\n",
       "      <td>-0.908325</td>\n",
       "      <td>1.617702</td>\n",
       "    </tr>\n",
       "    <tr>\n",
       "      <th>2</th>\n",
       "      <td>Albus Dumbledore</td>\n",
       "      <td>i should have known that you would be here...p...</td>\n",
       "      <td>7653</td>\n",
       "      <td>-0.350323</td>\n",
       "      <td>1.109932</td>\n",
       "    </tr>\n",
       "    <tr>\n",
       "      <th>68</th>\n",
       "      <td>Hermione Granger</td>\n",
       "      <td>it's not real, the ceiling. it's just bewitche...</td>\n",
       "      <td>7634</td>\n",
       "      <td>-0.778028</td>\n",
       "      <td>1.499210</td>\n",
       "    </tr>\n",
       "    <tr>\n",
       "      <th>129</th>\n",
       "      <td>Ron Weasley</td>\n",
       "      <td>mental that one, i'm telling you. there isn't ...</td>\n",
       "      <td>6916</td>\n",
       "      <td>-0.763605</td>\n",
       "      <td>1.472258</td>\n",
       "    </tr>\n",
       "    <tr>\n",
       "      <th>131</th>\n",
       "      <td>Rubeus Hagrid</td>\n",
       "      <td>professor dumbledore, sir. professor mcgonagal...</td>\n",
       "      <td>3473</td>\n",
       "      <td>-0.401807</td>\n",
       "      <td>1.074158</td>\n",
       "    </tr>\n",
       "  </tbody>\n",
       "</table>\n",
       "</div>"
      ],
      "text/plain": [
       "       Character Name                                           Dialogue  \\\n",
       "66       Harry Potter  yes, aunt petunia. yes, uncle vernon. he's asl...   \n",
       "2    Albus Dumbledore  i should have known that you would be here...p...   \n",
       "68   Hermione Granger  it's not real, the ceiling. it's just bewitche...   \n",
       "129       Ron Weasley  mental that one, i'm telling you. there isn't ...   \n",
       "131     Rubeus Hagrid  professor dumbledore, sir. professor mcgonagal...   \n",
       "\n",
       "     Number of Words         X         Y  \n",
       "66             13970 -0.908325  1.617702  \n",
       "2               7653 -0.350323  1.109932  \n",
       "68              7634 -0.778028  1.499210  \n",
       "129             6916 -0.763605  1.472258  \n",
       "131             3473 -0.401807  1.074158  "
      ]
     },
     "execution_count": 120,
     "metadata": {},
     "output_type": "execute_result"
    }
   ],
   "source": [
    "new_df.head()"
   ]
  },
  {
   "cell_type": "code",
   "execution_count": 121,
   "id": "c4fb66a8",
   "metadata": {
    "scrolled": true
   },
   "outputs": [
    {
     "data": {
      "application/vnd.plotly.v1+json": {
       "config": {
        "plotlyServerURL": "https://plot.ly"
       },
       "data": [
        {
         "hovertemplate": "Character Name=Harry Potter<br>X=%{x}<br>Y=%{y}<extra></extra>",
         "legendgroup": "Harry Potter",
         "marker": {
          "color": "#636efa",
          "symbol": "circle"
         },
         "mode": "markers",
         "name": "Harry Potter",
         "orientation": "v",
         "showlegend": true,
         "type": "scatter",
         "x": [
          -0.9083253145217896
         ],
         "xaxis": "x",
         "y": [
          1.6177020072937012
         ],
         "yaxis": "y"
        },
        {
         "hovertemplate": "Character Name=Albus Dumbledore<br>X=%{x}<br>Y=%{y}<extra></extra>",
         "legendgroup": "Albus Dumbledore",
         "marker": {
          "color": "#EF553B",
          "symbol": "circle"
         },
         "mode": "markers",
         "name": "Albus Dumbledore",
         "orientation": "v",
         "showlegend": true,
         "type": "scatter",
         "x": [
          -0.3503231108188629
         ],
         "xaxis": "x",
         "y": [
          1.1099321842193604
         ],
         "yaxis": "y"
        },
        {
         "hovertemplate": "Character Name=Hermione Granger<br>X=%{x}<br>Y=%{y}<extra></extra>",
         "legendgroup": "Hermione Granger",
         "marker": {
          "color": "#00cc96",
          "symbol": "circle"
         },
         "mode": "markers",
         "name": "Hermione Granger",
         "orientation": "v",
         "showlegend": true,
         "type": "scatter",
         "x": [
          -0.7780275344848633
         ],
         "xaxis": "x",
         "y": [
          1.499210000038147
         ],
         "yaxis": "y"
        },
        {
         "hovertemplate": "Character Name=Ron Weasley<br>X=%{x}<br>Y=%{y}<extra></extra>",
         "legendgroup": "Ron Weasley",
         "marker": {
          "color": "#ab63fa",
          "symbol": "circle"
         },
         "mode": "markers",
         "name": "Ron Weasley",
         "orientation": "v",
         "showlegend": true,
         "type": "scatter",
         "x": [
          -0.7636045217514038
         ],
         "xaxis": "x",
         "y": [
          1.472258448600769
         ],
         "yaxis": "y"
        },
        {
         "hovertemplate": "Character Name=Rubeus Hagrid<br>X=%{x}<br>Y=%{y}<extra></extra>",
         "legendgroup": "Rubeus Hagrid",
         "marker": {
          "color": "#FFA15A",
          "symbol": "circle"
         },
         "mode": "markers",
         "name": "Rubeus Hagrid",
         "orientation": "v",
         "showlegend": true,
         "type": "scatter",
         "x": [
          -0.40180718898773193
         ],
         "xaxis": "x",
         "y": [
          1.0741583108901978
         ],
         "yaxis": "y"
        },
        {
         "hovertemplate": "Character Name=Severus Snape<br>X=%{x}<br>Y=%{y}<extra></extra>",
         "legendgroup": "Severus Snape",
         "marker": {
          "color": "#19d3f3",
          "symbol": "circle"
         },
         "mode": "markers",
         "name": "Severus Snape",
         "orientation": "v",
         "showlegend": true,
         "type": "scatter",
         "x": [
          2.4922587871551514
         ],
         "xaxis": "x",
         "y": [
          0.04206296056509018
         ],
         "yaxis": "y"
        },
        {
         "hovertemplate": "Character Name=Horace Slughorn<br>X=%{x}<br>Y=%{y}<extra></extra>",
         "legendgroup": "Horace Slughorn",
         "marker": {
          "color": "#FF6692",
          "symbol": "circle"
         },
         "mode": "markers",
         "name": "Horace Slughorn",
         "orientation": "v",
         "showlegend": true,
         "type": "scatter",
         "x": [
          -0.38649603724479675
         ],
         "xaxis": "x",
         "y": [
          -0.01126591395586729
         ],
         "yaxis": "y"
        },
        {
         "hovertemplate": "Character Name=Minerva McGonagall<br>X=%{x}<br>Y=%{y}<extra></extra>",
         "legendgroup": "Minerva McGonagall",
         "marker": {
          "color": "#B6E880",
          "symbol": "circle"
         },
         "mode": "markers",
         "name": "Minerva McGonagall",
         "orientation": "v",
         "showlegend": true,
         "type": "scatter",
         "x": [
          -1.8608027696609497
         ],
         "xaxis": "x",
         "y": [
          -3.456347942352295
         ],
         "yaxis": "y"
        },
        {
         "hovertemplate": "Character Name=Remus Lupin<br>X=%{x}<br>Y=%{y}<extra></extra>",
         "legendgroup": "Remus Lupin",
         "marker": {
          "color": "#FF97FF",
          "symbol": "circle"
         },
         "mode": "markers",
         "name": "Remus Lupin",
         "orientation": "v",
         "showlegend": true,
         "type": "scatter",
         "x": [
          -0.12400886416435242
         ],
         "xaxis": "x",
         "y": [
          0.8195268511772156
         ],
         "yaxis": "y"
        },
        {
         "hovertemplate": "Character Name=Voldemort<br>X=%{x}<br>Y=%{y}<extra></extra>",
         "legendgroup": "Voldemort",
         "marker": {
          "color": "#FECB52",
          "symbol": "circle"
         },
         "mode": "markers",
         "name": "Voldemort",
         "orientation": "v",
         "showlegend": true,
         "type": "scatter",
         "x": [
          0.6358977556228638
         ],
         "xaxis": "x",
         "y": [
          0.5162462592124939
         ],
         "yaxis": "y"
        },
        {
         "hovertemplate": "Character Name=Draco Malfoy<br>X=%{x}<br>Y=%{y}<extra></extra>",
         "legendgroup": "Draco Malfoy",
         "marker": {
          "color": "#636efa",
          "symbol": "circle"
         },
         "mode": "markers",
         "name": "Draco Malfoy",
         "orientation": "v",
         "showlegend": true,
         "type": "scatter",
         "x": [
          2.1280179023742676
         ],
         "xaxis": "x",
         "y": [
          -0.06890589743852615
         ],
         "yaxis": "y"
        },
        {
         "hovertemplate": "Character Name=Alastor Moody<br>X=%{x}<br>Y=%{y}<extra></extra>",
         "legendgroup": "Alastor Moody",
         "marker": {
          "color": "#EF553B",
          "symbol": "circle"
         },
         "mode": "markers",
         "name": "Alastor Moody",
         "orientation": "v",
         "showlegend": true,
         "type": "scatter",
         "x": [
          1.8737798929214478
         ],
         "xaxis": "x",
         "y": [
          -0.1438158005475998
         ],
         "yaxis": "y"
        },
        {
         "hovertemplate": "Character Name=Sirius Black<br>X=%{x}<br>Y=%{y}<extra></extra>",
         "legendgroup": "Sirius Black",
         "marker": {
          "color": "#00cc96",
          "symbol": "circle"
         },
         "mode": "markers",
         "name": "Sirius Black",
         "orientation": "v",
         "showlegend": true,
         "type": "scatter",
         "x": [
          0.09452825784683228
         ],
         "xaxis": "x",
         "y": [
          0.40244996547698975
         ],
         "yaxis": "y"
        },
        {
         "hovertemplate": "Character Name=Tom Riddle<br>X=%{x}<br>Y=%{y}<extra></extra>",
         "legendgroup": "Tom Riddle",
         "marker": {
          "color": "#ab63fa",
          "symbol": "circle"
         },
         "mode": "markers",
         "name": "Tom Riddle",
         "orientation": "v",
         "showlegend": true,
         "type": "scatter",
         "x": [
          2.9695193767547607
         ],
         "xaxis": "x",
         "y": [
          -3.3665969371795654
         ],
         "yaxis": "y"
        },
        {
         "hovertemplate": "Character Name=Arthur Weasley<br>X=%{x}<br>Y=%{y}<extra></extra>",
         "legendgroup": "Arthur Weasley",
         "marker": {
          "color": "#FFA15A",
          "symbol": "circle"
         },
         "mode": "markers",
         "name": "Arthur Weasley",
         "orientation": "v",
         "showlegend": true,
         "type": "scatter",
         "x": [
          0.25156667828559875
         ],
         "xaxis": "x",
         "y": [
          0.4311184287071228
         ],
         "yaxis": "y"
        },
        {
         "hovertemplate": "Character Name=Dolores Umbridge<br>X=%{x}<br>Y=%{y}<extra></extra>",
         "legendgroup": "Dolores Umbridge",
         "marker": {
          "color": "#19d3f3",
          "symbol": "circle"
         },
         "mode": "markers",
         "name": "Dolores Umbridge",
         "orientation": "v",
         "showlegend": true,
         "type": "scatter",
         "x": [
          -1.5164740085601807
         ],
         "xaxis": "x",
         "y": [
          -3.577087163925171
         ],
         "yaxis": "y"
        },
        {
         "hovertemplate": "Character Name=Gilderoy Lockhart<br>X=%{x}<br>Y=%{y}<extra></extra>",
         "legendgroup": "Gilderoy Lockhart",
         "marker": {
          "color": "#FF6692",
          "symbol": "circle"
         },
         "mode": "markers",
         "name": "Gilderoy Lockhart",
         "orientation": "v",
         "showlegend": true,
         "type": "scatter",
         "x": [
          0.4989221394062042
         ],
         "xaxis": "x",
         "y": [
          -0.959446132183075
         ],
         "yaxis": "y"
        },
        {
         "hovertemplate": "Character Name=Cornelius Fudge<br>X=%{x}<br>Y=%{y}<extra></extra>",
         "legendgroup": "Cornelius Fudge",
         "marker": {
          "color": "#B6E880",
          "symbol": "circle"
         },
         "mode": "markers",
         "name": "Cornelius Fudge",
         "orientation": "v",
         "showlegend": true,
         "type": "scatter",
         "x": [
          -0.3680368959903717
         ],
         "xaxis": "x",
         "y": [
          -1.6306390762329102
         ],
         "yaxis": "y"
        },
        {
         "hovertemplate": "Character Name=Lucius Malfoy<br>X=%{x}<br>Y=%{y}<extra></extra>",
         "legendgroup": "Lucius Malfoy",
         "marker": {
          "color": "#FF97FF",
          "symbol": "circle"
         },
         "mode": "markers",
         "name": "Lucius Malfoy",
         "orientation": "v",
         "showlegend": true,
         "type": "scatter",
         "x": [
          2.1606385707855225
         ],
         "xaxis": "x",
         "y": [
          -0.2459341287612915
         ],
         "yaxis": "y"
        },
        {
         "hovertemplate": "Character Name=Neville Longbottom<br>X=%{x}<br>Y=%{y}<extra></extra>",
         "legendgroup": "Neville Longbottom",
         "marker": {
          "color": "#FECB52",
          "symbol": "circle"
         },
         "mode": "markers",
         "name": "Neville Longbottom",
         "orientation": "v",
         "showlegend": true,
         "type": "scatter",
         "x": [
          0.26342177391052246
         ],
         "xaxis": "x",
         "y": [
          0.054670948535203934
         ],
         "yaxis": "y"
        },
        {
         "hovertemplate": "Character Name=Dobby<br>X=%{x}<br>Y=%{y}<extra></extra>",
         "legendgroup": "Dobby",
         "marker": {
          "color": "#636efa",
          "symbol": "circle"
         },
         "mode": "markers",
         "name": "Dobby",
         "orientation": "v",
         "showlegend": true,
         "type": "scatter",
         "x": [
          1.756977915763855
         ],
         "xaxis": "x",
         "y": [
          0.25994136929512024
         ],
         "yaxis": "y"
        },
        {
         "hovertemplate": "Character Name=Bellatrix Lestrange<br>X=%{x}<br>Y=%{y}<extra></extra>",
         "legendgroup": "Bellatrix Lestrange",
         "marker": {
          "color": "#EF553B",
          "symbol": "circle"
         },
         "mode": "markers",
         "name": "Bellatrix Lestrange",
         "orientation": "v",
         "showlegend": true,
         "type": "scatter",
         "x": [
          2.1493453979492188
         ],
         "xaxis": "x",
         "y": [
          -0.5171322226524353
         ],
         "yaxis": "y"
        },
        {
         "hovertemplate": "Character Name=Vernon Dursley<br>X=%{x}<br>Y=%{y}<extra></extra>",
         "legendgroup": "Vernon Dursley",
         "marker": {
          "color": "#00cc96",
          "symbol": "circle"
         },
         "mode": "markers",
         "name": "Vernon Dursley",
         "orientation": "v",
         "showlegend": true,
         "type": "scatter",
         "x": [
          -1.2888667583465576
         ],
         "xaxis": "x",
         "y": [
          -2.153413772583008
         ],
         "yaxis": "y"
        },
        {
         "hovertemplate": "Character Name=Fred Weasley<br>X=%{x}<br>Y=%{y}<extra></extra>",
         "legendgroup": "Fred Weasley",
         "marker": {
          "color": "#ab63fa",
          "symbol": "circle"
         },
         "mode": "markers",
         "name": "Fred Weasley",
         "orientation": "v",
         "showlegend": true,
         "type": "scatter",
         "x": [
          -0.7509593963623047
         ],
         "xaxis": "x",
         "y": [
          -0.8000079989433289
         ],
         "yaxis": "y"
        },
        {
         "hovertemplate": "Character Name=Luna Lovegood<br>X=%{x}<br>Y=%{y}<extra></extra>",
         "legendgroup": "Luna Lovegood",
         "marker": {
          "color": "#FFA15A",
          "symbol": "circle"
         },
         "mode": "markers",
         "name": "Luna Lovegood",
         "orientation": "v",
         "showlegend": true,
         "type": "scatter",
         "x": [
          0.6592890024185181
         ],
         "xaxis": "x",
         "y": [
          -0.8777643442153931
         ],
         "yaxis": "y"
        }
       ],
       "layout": {
        "legend": {
         "title": {
          "text": "Character Name"
         },
         "tracegroupgap": 0
        },
        "margin": {
         "t": 60
        },
        "template": {
         "data": {
          "bar": [
           {
            "error_x": {
             "color": "#2a3f5f"
            },
            "error_y": {
             "color": "#2a3f5f"
            },
            "marker": {
             "line": {
              "color": "#E5ECF6",
              "width": 0.5
             },
             "pattern": {
              "fillmode": "overlay",
              "size": 10,
              "solidity": 0.2
             }
            },
            "type": "bar"
           }
          ],
          "barpolar": [
           {
            "marker": {
             "line": {
              "color": "#E5ECF6",
              "width": 0.5
             },
             "pattern": {
              "fillmode": "overlay",
              "size": 10,
              "solidity": 0.2
             }
            },
            "type": "barpolar"
           }
          ],
          "carpet": [
           {
            "aaxis": {
             "endlinecolor": "#2a3f5f",
             "gridcolor": "white",
             "linecolor": "white",
             "minorgridcolor": "white",
             "startlinecolor": "#2a3f5f"
            },
            "baxis": {
             "endlinecolor": "#2a3f5f",
             "gridcolor": "white",
             "linecolor": "white",
             "minorgridcolor": "white",
             "startlinecolor": "#2a3f5f"
            },
            "type": "carpet"
           }
          ],
          "choropleth": [
           {
            "colorbar": {
             "outlinewidth": 0,
             "ticks": ""
            },
            "type": "choropleth"
           }
          ],
          "contour": [
           {
            "colorbar": {
             "outlinewidth": 0,
             "ticks": ""
            },
            "colorscale": [
             [
              0,
              "#0d0887"
             ],
             [
              0.1111111111111111,
              "#46039f"
             ],
             [
              0.2222222222222222,
              "#7201a8"
             ],
             [
              0.3333333333333333,
              "#9c179e"
             ],
             [
              0.4444444444444444,
              "#bd3786"
             ],
             [
              0.5555555555555556,
              "#d8576b"
             ],
             [
              0.6666666666666666,
              "#ed7953"
             ],
             [
              0.7777777777777778,
              "#fb9f3a"
             ],
             [
              0.8888888888888888,
              "#fdca26"
             ],
             [
              1,
              "#f0f921"
             ]
            ],
            "type": "contour"
           }
          ],
          "contourcarpet": [
           {
            "colorbar": {
             "outlinewidth": 0,
             "ticks": ""
            },
            "type": "contourcarpet"
           }
          ],
          "heatmap": [
           {
            "colorbar": {
             "outlinewidth": 0,
             "ticks": ""
            },
            "colorscale": [
             [
              0,
              "#0d0887"
             ],
             [
              0.1111111111111111,
              "#46039f"
             ],
             [
              0.2222222222222222,
              "#7201a8"
             ],
             [
              0.3333333333333333,
              "#9c179e"
             ],
             [
              0.4444444444444444,
              "#bd3786"
             ],
             [
              0.5555555555555556,
              "#d8576b"
             ],
             [
              0.6666666666666666,
              "#ed7953"
             ],
             [
              0.7777777777777778,
              "#fb9f3a"
             ],
             [
              0.8888888888888888,
              "#fdca26"
             ],
             [
              1,
              "#f0f921"
             ]
            ],
            "type": "heatmap"
           }
          ],
          "heatmapgl": [
           {
            "colorbar": {
             "outlinewidth": 0,
             "ticks": ""
            },
            "colorscale": [
             [
              0,
              "#0d0887"
             ],
             [
              0.1111111111111111,
              "#46039f"
             ],
             [
              0.2222222222222222,
              "#7201a8"
             ],
             [
              0.3333333333333333,
              "#9c179e"
             ],
             [
              0.4444444444444444,
              "#bd3786"
             ],
             [
              0.5555555555555556,
              "#d8576b"
             ],
             [
              0.6666666666666666,
              "#ed7953"
             ],
             [
              0.7777777777777778,
              "#fb9f3a"
             ],
             [
              0.8888888888888888,
              "#fdca26"
             ],
             [
              1,
              "#f0f921"
             ]
            ],
            "type": "heatmapgl"
           }
          ],
          "histogram": [
           {
            "marker": {
             "pattern": {
              "fillmode": "overlay",
              "size": 10,
              "solidity": 0.2
             }
            },
            "type": "histogram"
           }
          ],
          "histogram2d": [
           {
            "colorbar": {
             "outlinewidth": 0,
             "ticks": ""
            },
            "colorscale": [
             [
              0,
              "#0d0887"
             ],
             [
              0.1111111111111111,
              "#46039f"
             ],
             [
              0.2222222222222222,
              "#7201a8"
             ],
             [
              0.3333333333333333,
              "#9c179e"
             ],
             [
              0.4444444444444444,
              "#bd3786"
             ],
             [
              0.5555555555555556,
              "#d8576b"
             ],
             [
              0.6666666666666666,
              "#ed7953"
             ],
             [
              0.7777777777777778,
              "#fb9f3a"
             ],
             [
              0.8888888888888888,
              "#fdca26"
             ],
             [
              1,
              "#f0f921"
             ]
            ],
            "type": "histogram2d"
           }
          ],
          "histogram2dcontour": [
           {
            "colorbar": {
             "outlinewidth": 0,
             "ticks": ""
            },
            "colorscale": [
             [
              0,
              "#0d0887"
             ],
             [
              0.1111111111111111,
              "#46039f"
             ],
             [
              0.2222222222222222,
              "#7201a8"
             ],
             [
              0.3333333333333333,
              "#9c179e"
             ],
             [
              0.4444444444444444,
              "#bd3786"
             ],
             [
              0.5555555555555556,
              "#d8576b"
             ],
             [
              0.6666666666666666,
              "#ed7953"
             ],
             [
              0.7777777777777778,
              "#fb9f3a"
             ],
             [
              0.8888888888888888,
              "#fdca26"
             ],
             [
              1,
              "#f0f921"
             ]
            ],
            "type": "histogram2dcontour"
           }
          ],
          "mesh3d": [
           {
            "colorbar": {
             "outlinewidth": 0,
             "ticks": ""
            },
            "type": "mesh3d"
           }
          ],
          "parcoords": [
           {
            "line": {
             "colorbar": {
              "outlinewidth": 0,
              "ticks": ""
             }
            },
            "type": "parcoords"
           }
          ],
          "pie": [
           {
            "automargin": true,
            "type": "pie"
           }
          ],
          "scatter": [
           {
            "fillpattern": {
             "fillmode": "overlay",
             "size": 10,
             "solidity": 0.2
            },
            "type": "scatter"
           }
          ],
          "scatter3d": [
           {
            "line": {
             "colorbar": {
              "outlinewidth": 0,
              "ticks": ""
             }
            },
            "marker": {
             "colorbar": {
              "outlinewidth": 0,
              "ticks": ""
             }
            },
            "type": "scatter3d"
           }
          ],
          "scattercarpet": [
           {
            "marker": {
             "colorbar": {
              "outlinewidth": 0,
              "ticks": ""
             }
            },
            "type": "scattercarpet"
           }
          ],
          "scattergeo": [
           {
            "marker": {
             "colorbar": {
              "outlinewidth": 0,
              "ticks": ""
             }
            },
            "type": "scattergeo"
           }
          ],
          "scattergl": [
           {
            "marker": {
             "colorbar": {
              "outlinewidth": 0,
              "ticks": ""
             }
            },
            "type": "scattergl"
           }
          ],
          "scattermapbox": [
           {
            "marker": {
             "colorbar": {
              "outlinewidth": 0,
              "ticks": ""
             }
            },
            "type": "scattermapbox"
           }
          ],
          "scatterpolar": [
           {
            "marker": {
             "colorbar": {
              "outlinewidth": 0,
              "ticks": ""
             }
            },
            "type": "scatterpolar"
           }
          ],
          "scatterpolargl": [
           {
            "marker": {
             "colorbar": {
              "outlinewidth": 0,
              "ticks": ""
             }
            },
            "type": "scatterpolargl"
           }
          ],
          "scatterternary": [
           {
            "marker": {
             "colorbar": {
              "outlinewidth": 0,
              "ticks": ""
             }
            },
            "type": "scatterternary"
           }
          ],
          "surface": [
           {
            "colorbar": {
             "outlinewidth": 0,
             "ticks": ""
            },
            "colorscale": [
             [
              0,
              "#0d0887"
             ],
             [
              0.1111111111111111,
              "#46039f"
             ],
             [
              0.2222222222222222,
              "#7201a8"
             ],
             [
              0.3333333333333333,
              "#9c179e"
             ],
             [
              0.4444444444444444,
              "#bd3786"
             ],
             [
              0.5555555555555556,
              "#d8576b"
             ],
             [
              0.6666666666666666,
              "#ed7953"
             ],
             [
              0.7777777777777778,
              "#fb9f3a"
             ],
             [
              0.8888888888888888,
              "#fdca26"
             ],
             [
              1,
              "#f0f921"
             ]
            ],
            "type": "surface"
           }
          ],
          "table": [
           {
            "cells": {
             "fill": {
              "color": "#EBF0F8"
             },
             "line": {
              "color": "white"
             }
            },
            "header": {
             "fill": {
              "color": "#C8D4E3"
             },
             "line": {
              "color": "white"
             }
            },
            "type": "table"
           }
          ]
         },
         "layout": {
          "annotationdefaults": {
           "arrowcolor": "#2a3f5f",
           "arrowhead": 0,
           "arrowwidth": 1
          },
          "autotypenumbers": "strict",
          "coloraxis": {
           "colorbar": {
            "outlinewidth": 0,
            "ticks": ""
           }
          },
          "colorscale": {
           "diverging": [
            [
             0,
             "#8e0152"
            ],
            [
             0.1,
             "#c51b7d"
            ],
            [
             0.2,
             "#de77ae"
            ],
            [
             0.3,
             "#f1b6da"
            ],
            [
             0.4,
             "#fde0ef"
            ],
            [
             0.5,
             "#f7f7f7"
            ],
            [
             0.6,
             "#e6f5d0"
            ],
            [
             0.7,
             "#b8e186"
            ],
            [
             0.8,
             "#7fbc41"
            ],
            [
             0.9,
             "#4d9221"
            ],
            [
             1,
             "#276419"
            ]
           ],
           "sequential": [
            [
             0,
             "#0d0887"
            ],
            [
             0.1111111111111111,
             "#46039f"
            ],
            [
             0.2222222222222222,
             "#7201a8"
            ],
            [
             0.3333333333333333,
             "#9c179e"
            ],
            [
             0.4444444444444444,
             "#bd3786"
            ],
            [
             0.5555555555555556,
             "#d8576b"
            ],
            [
             0.6666666666666666,
             "#ed7953"
            ],
            [
             0.7777777777777778,
             "#fb9f3a"
            ],
            [
             0.8888888888888888,
             "#fdca26"
            ],
            [
             1,
             "#f0f921"
            ]
           ],
           "sequentialminus": [
            [
             0,
             "#0d0887"
            ],
            [
             0.1111111111111111,
             "#46039f"
            ],
            [
             0.2222222222222222,
             "#7201a8"
            ],
            [
             0.3333333333333333,
             "#9c179e"
            ],
            [
             0.4444444444444444,
             "#bd3786"
            ],
            [
             0.5555555555555556,
             "#d8576b"
            ],
            [
             0.6666666666666666,
             "#ed7953"
            ],
            [
             0.7777777777777778,
             "#fb9f3a"
            ],
            [
             0.8888888888888888,
             "#fdca26"
            ],
            [
             1,
             "#f0f921"
            ]
           ]
          },
          "colorway": [
           "#636efa",
           "#EF553B",
           "#00cc96",
           "#ab63fa",
           "#FFA15A",
           "#19d3f3",
           "#FF6692",
           "#B6E880",
           "#FF97FF",
           "#FECB52"
          ],
          "font": {
           "color": "#2a3f5f"
          },
          "geo": {
           "bgcolor": "white",
           "lakecolor": "white",
           "landcolor": "#E5ECF6",
           "showlakes": true,
           "showland": true,
           "subunitcolor": "white"
          },
          "hoverlabel": {
           "align": "left"
          },
          "hovermode": "closest",
          "mapbox": {
           "style": "light"
          },
          "paper_bgcolor": "white",
          "plot_bgcolor": "#E5ECF6",
          "polar": {
           "angularaxis": {
            "gridcolor": "white",
            "linecolor": "white",
            "ticks": ""
           },
           "bgcolor": "#E5ECF6",
           "radialaxis": {
            "gridcolor": "white",
            "linecolor": "white",
            "ticks": ""
           }
          },
          "scene": {
           "xaxis": {
            "backgroundcolor": "#E5ECF6",
            "gridcolor": "white",
            "gridwidth": 2,
            "linecolor": "white",
            "showbackground": true,
            "ticks": "",
            "zerolinecolor": "white"
           },
           "yaxis": {
            "backgroundcolor": "#E5ECF6",
            "gridcolor": "white",
            "gridwidth": 2,
            "linecolor": "white",
            "showbackground": true,
            "ticks": "",
            "zerolinecolor": "white"
           },
           "zaxis": {
            "backgroundcolor": "#E5ECF6",
            "gridcolor": "white",
            "gridwidth": 2,
            "linecolor": "white",
            "showbackground": true,
            "ticks": "",
            "zerolinecolor": "white"
           }
          },
          "shapedefaults": {
           "line": {
            "color": "#2a3f5f"
           }
          },
          "ternary": {
           "aaxis": {
            "gridcolor": "white",
            "linecolor": "white",
            "ticks": ""
           },
           "baxis": {
            "gridcolor": "white",
            "linecolor": "white",
            "ticks": ""
           },
           "bgcolor": "#E5ECF6",
           "caxis": {
            "gridcolor": "white",
            "linecolor": "white",
            "ticks": ""
           }
          },
          "title": {
           "x": 0.05
          },
          "xaxis": {
           "automargin": true,
           "gridcolor": "white",
           "linecolor": "white",
           "ticks": "",
           "title": {
            "standoff": 15
           },
           "zerolinecolor": "white",
           "zerolinewidth": 2
          },
          "yaxis": {
           "automargin": true,
           "gridcolor": "white",
           "linecolor": "white",
           "ticks": "",
           "title": {
            "standoff": 15
           },
           "zerolinecolor": "white",
           "zerolinewidth": 2
          }
         }
        },
        "xaxis": {
         "anchor": "y",
         "domain": [
          0,
          1
         ],
         "title": {
          "text": "X"
         }
        },
        "yaxis": {
         "anchor": "x",
         "domain": [
          0,
          1
         ],
         "title": {
          "text": "Y"
         }
        }
       }
      },
      "text/html": [
       "<div>                            <div id=\"ba6f960f-b914-4abe-9b25-4cd06e423e1a\" class=\"plotly-graph-div\" style=\"height:525px; width:100%;\"></div>            <script type=\"text/javascript\">                require([\"plotly\"], function(Plotly) {                    window.PLOTLYENV=window.PLOTLYENV || {};                                    if (document.getElementById(\"ba6f960f-b914-4abe-9b25-4cd06e423e1a\")) {                    Plotly.newPlot(                        \"ba6f960f-b914-4abe-9b25-4cd06e423e1a\",                        [{\"hovertemplate\":\"Character Name=Harry Potter<br>X=%{x}<br>Y=%{y}<extra></extra>\",\"legendgroup\":\"Harry Potter\",\"marker\":{\"color\":\"#636efa\",\"symbol\":\"circle\"},\"mode\":\"markers\",\"name\":\"Harry Potter\",\"orientation\":\"v\",\"showlegend\":true,\"x\":[-0.9083253145217896],\"xaxis\":\"x\",\"y\":[1.6177020072937012],\"yaxis\":\"y\",\"type\":\"scatter\"},{\"hovertemplate\":\"Character Name=Albus Dumbledore<br>X=%{x}<br>Y=%{y}<extra></extra>\",\"legendgroup\":\"Albus Dumbledore\",\"marker\":{\"color\":\"#EF553B\",\"symbol\":\"circle\"},\"mode\":\"markers\",\"name\":\"Albus Dumbledore\",\"orientation\":\"v\",\"showlegend\":true,\"x\":[-0.3503231108188629],\"xaxis\":\"x\",\"y\":[1.1099321842193604],\"yaxis\":\"y\",\"type\":\"scatter\"},{\"hovertemplate\":\"Character Name=Hermione Granger<br>X=%{x}<br>Y=%{y}<extra></extra>\",\"legendgroup\":\"Hermione Granger\",\"marker\":{\"color\":\"#00cc96\",\"symbol\":\"circle\"},\"mode\":\"markers\",\"name\":\"Hermione Granger\",\"orientation\":\"v\",\"showlegend\":true,\"x\":[-0.7780275344848633],\"xaxis\":\"x\",\"y\":[1.499210000038147],\"yaxis\":\"y\",\"type\":\"scatter\"},{\"hovertemplate\":\"Character Name=Ron Weasley<br>X=%{x}<br>Y=%{y}<extra></extra>\",\"legendgroup\":\"Ron Weasley\",\"marker\":{\"color\":\"#ab63fa\",\"symbol\":\"circle\"},\"mode\":\"markers\",\"name\":\"Ron Weasley\",\"orientation\":\"v\",\"showlegend\":true,\"x\":[-0.7636045217514038],\"xaxis\":\"x\",\"y\":[1.472258448600769],\"yaxis\":\"y\",\"type\":\"scatter\"},{\"hovertemplate\":\"Character Name=Rubeus Hagrid<br>X=%{x}<br>Y=%{y}<extra></extra>\",\"legendgroup\":\"Rubeus Hagrid\",\"marker\":{\"color\":\"#FFA15A\",\"symbol\":\"circle\"},\"mode\":\"markers\",\"name\":\"Rubeus Hagrid\",\"orientation\":\"v\",\"showlegend\":true,\"x\":[-0.40180718898773193],\"xaxis\":\"x\",\"y\":[1.0741583108901978],\"yaxis\":\"y\",\"type\":\"scatter\"},{\"hovertemplate\":\"Character Name=Severus Snape<br>X=%{x}<br>Y=%{y}<extra></extra>\",\"legendgroup\":\"Severus Snape\",\"marker\":{\"color\":\"#19d3f3\",\"symbol\":\"circle\"},\"mode\":\"markers\",\"name\":\"Severus Snape\",\"orientation\":\"v\",\"showlegend\":true,\"x\":[2.4922587871551514],\"xaxis\":\"x\",\"y\":[0.04206296056509018],\"yaxis\":\"y\",\"type\":\"scatter\"},{\"hovertemplate\":\"Character Name=Horace Slughorn<br>X=%{x}<br>Y=%{y}<extra></extra>\",\"legendgroup\":\"Horace Slughorn\",\"marker\":{\"color\":\"#FF6692\",\"symbol\":\"circle\"},\"mode\":\"markers\",\"name\":\"Horace Slughorn\",\"orientation\":\"v\",\"showlegend\":true,\"x\":[-0.38649603724479675],\"xaxis\":\"x\",\"y\":[-0.01126591395586729],\"yaxis\":\"y\",\"type\":\"scatter\"},{\"hovertemplate\":\"Character Name=Minerva McGonagall<br>X=%{x}<br>Y=%{y}<extra></extra>\",\"legendgroup\":\"Minerva McGonagall\",\"marker\":{\"color\":\"#B6E880\",\"symbol\":\"circle\"},\"mode\":\"markers\",\"name\":\"Minerva McGonagall\",\"orientation\":\"v\",\"showlegend\":true,\"x\":[-1.8608027696609497],\"xaxis\":\"x\",\"y\":[-3.456347942352295],\"yaxis\":\"y\",\"type\":\"scatter\"},{\"hovertemplate\":\"Character Name=Remus Lupin<br>X=%{x}<br>Y=%{y}<extra></extra>\",\"legendgroup\":\"Remus Lupin\",\"marker\":{\"color\":\"#FF97FF\",\"symbol\":\"circle\"},\"mode\":\"markers\",\"name\":\"Remus Lupin\",\"orientation\":\"v\",\"showlegend\":true,\"x\":[-0.12400886416435242],\"xaxis\":\"x\",\"y\":[0.8195268511772156],\"yaxis\":\"y\",\"type\":\"scatter\"},{\"hovertemplate\":\"Character Name=Voldemort<br>X=%{x}<br>Y=%{y}<extra></extra>\",\"legendgroup\":\"Voldemort\",\"marker\":{\"color\":\"#FECB52\",\"symbol\":\"circle\"},\"mode\":\"markers\",\"name\":\"Voldemort\",\"orientation\":\"v\",\"showlegend\":true,\"x\":[0.6358977556228638],\"xaxis\":\"x\",\"y\":[0.5162462592124939],\"yaxis\":\"y\",\"type\":\"scatter\"},{\"hovertemplate\":\"Character Name=Draco Malfoy<br>X=%{x}<br>Y=%{y}<extra></extra>\",\"legendgroup\":\"Draco Malfoy\",\"marker\":{\"color\":\"#636efa\",\"symbol\":\"circle\"},\"mode\":\"markers\",\"name\":\"Draco Malfoy\",\"orientation\":\"v\",\"showlegend\":true,\"x\":[2.1280179023742676],\"xaxis\":\"x\",\"y\":[-0.06890589743852615],\"yaxis\":\"y\",\"type\":\"scatter\"},{\"hovertemplate\":\"Character Name=Alastor Moody<br>X=%{x}<br>Y=%{y}<extra></extra>\",\"legendgroup\":\"Alastor Moody\",\"marker\":{\"color\":\"#EF553B\",\"symbol\":\"circle\"},\"mode\":\"markers\",\"name\":\"Alastor Moody\",\"orientation\":\"v\",\"showlegend\":true,\"x\":[1.8737798929214478],\"xaxis\":\"x\",\"y\":[-0.1438158005475998],\"yaxis\":\"y\",\"type\":\"scatter\"},{\"hovertemplate\":\"Character Name=Sirius Black<br>X=%{x}<br>Y=%{y}<extra></extra>\",\"legendgroup\":\"Sirius Black\",\"marker\":{\"color\":\"#00cc96\",\"symbol\":\"circle\"},\"mode\":\"markers\",\"name\":\"Sirius Black\",\"orientation\":\"v\",\"showlegend\":true,\"x\":[0.09452825784683228],\"xaxis\":\"x\",\"y\":[0.40244996547698975],\"yaxis\":\"y\",\"type\":\"scatter\"},{\"hovertemplate\":\"Character Name=Tom Riddle<br>X=%{x}<br>Y=%{y}<extra></extra>\",\"legendgroup\":\"Tom Riddle\",\"marker\":{\"color\":\"#ab63fa\",\"symbol\":\"circle\"},\"mode\":\"markers\",\"name\":\"Tom Riddle\",\"orientation\":\"v\",\"showlegend\":true,\"x\":[2.9695193767547607],\"xaxis\":\"x\",\"y\":[-3.3665969371795654],\"yaxis\":\"y\",\"type\":\"scatter\"},{\"hovertemplate\":\"Character Name=Arthur Weasley<br>X=%{x}<br>Y=%{y}<extra></extra>\",\"legendgroup\":\"Arthur Weasley\",\"marker\":{\"color\":\"#FFA15A\",\"symbol\":\"circle\"},\"mode\":\"markers\",\"name\":\"Arthur Weasley\",\"orientation\":\"v\",\"showlegend\":true,\"x\":[0.25156667828559875],\"xaxis\":\"x\",\"y\":[0.4311184287071228],\"yaxis\":\"y\",\"type\":\"scatter\"},{\"hovertemplate\":\"Character Name=Dolores Umbridge<br>X=%{x}<br>Y=%{y}<extra></extra>\",\"legendgroup\":\"Dolores Umbridge\",\"marker\":{\"color\":\"#19d3f3\",\"symbol\":\"circle\"},\"mode\":\"markers\",\"name\":\"Dolores Umbridge\",\"orientation\":\"v\",\"showlegend\":true,\"x\":[-1.5164740085601807],\"xaxis\":\"x\",\"y\":[-3.577087163925171],\"yaxis\":\"y\",\"type\":\"scatter\"},{\"hovertemplate\":\"Character Name=Gilderoy Lockhart<br>X=%{x}<br>Y=%{y}<extra></extra>\",\"legendgroup\":\"Gilderoy Lockhart\",\"marker\":{\"color\":\"#FF6692\",\"symbol\":\"circle\"},\"mode\":\"markers\",\"name\":\"Gilderoy Lockhart\",\"orientation\":\"v\",\"showlegend\":true,\"x\":[0.4989221394062042],\"xaxis\":\"x\",\"y\":[-0.959446132183075],\"yaxis\":\"y\",\"type\":\"scatter\"},{\"hovertemplate\":\"Character Name=Cornelius Fudge<br>X=%{x}<br>Y=%{y}<extra></extra>\",\"legendgroup\":\"Cornelius Fudge\",\"marker\":{\"color\":\"#B6E880\",\"symbol\":\"circle\"},\"mode\":\"markers\",\"name\":\"Cornelius Fudge\",\"orientation\":\"v\",\"showlegend\":true,\"x\":[-0.3680368959903717],\"xaxis\":\"x\",\"y\":[-1.6306390762329102],\"yaxis\":\"y\",\"type\":\"scatter\"},{\"hovertemplate\":\"Character Name=Lucius Malfoy<br>X=%{x}<br>Y=%{y}<extra></extra>\",\"legendgroup\":\"Lucius Malfoy\",\"marker\":{\"color\":\"#FF97FF\",\"symbol\":\"circle\"},\"mode\":\"markers\",\"name\":\"Lucius Malfoy\",\"orientation\":\"v\",\"showlegend\":true,\"x\":[2.1606385707855225],\"xaxis\":\"x\",\"y\":[-0.2459341287612915],\"yaxis\":\"y\",\"type\":\"scatter\"},{\"hovertemplate\":\"Character Name=Neville Longbottom<br>X=%{x}<br>Y=%{y}<extra></extra>\",\"legendgroup\":\"Neville Longbottom\",\"marker\":{\"color\":\"#FECB52\",\"symbol\":\"circle\"},\"mode\":\"markers\",\"name\":\"Neville Longbottom\",\"orientation\":\"v\",\"showlegend\":true,\"x\":[0.26342177391052246],\"xaxis\":\"x\",\"y\":[0.054670948535203934],\"yaxis\":\"y\",\"type\":\"scatter\"},{\"hovertemplate\":\"Character Name=Dobby<br>X=%{x}<br>Y=%{y}<extra></extra>\",\"legendgroup\":\"Dobby\",\"marker\":{\"color\":\"#636efa\",\"symbol\":\"circle\"},\"mode\":\"markers\",\"name\":\"Dobby\",\"orientation\":\"v\",\"showlegend\":true,\"x\":[1.756977915763855],\"xaxis\":\"x\",\"y\":[0.25994136929512024],\"yaxis\":\"y\",\"type\":\"scatter\"},{\"hovertemplate\":\"Character Name=Bellatrix Lestrange<br>X=%{x}<br>Y=%{y}<extra></extra>\",\"legendgroup\":\"Bellatrix Lestrange\",\"marker\":{\"color\":\"#EF553B\",\"symbol\":\"circle\"},\"mode\":\"markers\",\"name\":\"Bellatrix Lestrange\",\"orientation\":\"v\",\"showlegend\":true,\"x\":[2.1493453979492188],\"xaxis\":\"x\",\"y\":[-0.5171322226524353],\"yaxis\":\"y\",\"type\":\"scatter\"},{\"hovertemplate\":\"Character Name=Vernon Dursley<br>X=%{x}<br>Y=%{y}<extra></extra>\",\"legendgroup\":\"Vernon Dursley\",\"marker\":{\"color\":\"#00cc96\",\"symbol\":\"circle\"},\"mode\":\"markers\",\"name\":\"Vernon Dursley\",\"orientation\":\"v\",\"showlegend\":true,\"x\":[-1.2888667583465576],\"xaxis\":\"x\",\"y\":[-2.153413772583008],\"yaxis\":\"y\",\"type\":\"scatter\"},{\"hovertemplate\":\"Character Name=Fred Weasley<br>X=%{x}<br>Y=%{y}<extra></extra>\",\"legendgroup\":\"Fred Weasley\",\"marker\":{\"color\":\"#ab63fa\",\"symbol\":\"circle\"},\"mode\":\"markers\",\"name\":\"Fred Weasley\",\"orientation\":\"v\",\"showlegend\":true,\"x\":[-0.7509593963623047],\"xaxis\":\"x\",\"y\":[-0.8000079989433289],\"yaxis\":\"y\",\"type\":\"scatter\"},{\"hovertemplate\":\"Character Name=Luna Lovegood<br>X=%{x}<br>Y=%{y}<extra></extra>\",\"legendgroup\":\"Luna Lovegood\",\"marker\":{\"color\":\"#FFA15A\",\"symbol\":\"circle\"},\"mode\":\"markers\",\"name\":\"Luna Lovegood\",\"orientation\":\"v\",\"showlegend\":true,\"x\":[0.6592890024185181],\"xaxis\":\"x\",\"y\":[-0.8777643442153931],\"yaxis\":\"y\",\"type\":\"scatter\"}],                        {\"template\":{\"data\":{\"histogram2dcontour\":[{\"type\":\"histogram2dcontour\",\"colorbar\":{\"outlinewidth\":0,\"ticks\":\"\"},\"colorscale\":[[0.0,\"#0d0887\"],[0.1111111111111111,\"#46039f\"],[0.2222222222222222,\"#7201a8\"],[0.3333333333333333,\"#9c179e\"],[0.4444444444444444,\"#bd3786\"],[0.5555555555555556,\"#d8576b\"],[0.6666666666666666,\"#ed7953\"],[0.7777777777777778,\"#fb9f3a\"],[0.8888888888888888,\"#fdca26\"],[1.0,\"#f0f921\"]]}],\"choropleth\":[{\"type\":\"choropleth\",\"colorbar\":{\"outlinewidth\":0,\"ticks\":\"\"}}],\"histogram2d\":[{\"type\":\"histogram2d\",\"colorbar\":{\"outlinewidth\":0,\"ticks\":\"\"},\"colorscale\":[[0.0,\"#0d0887\"],[0.1111111111111111,\"#46039f\"],[0.2222222222222222,\"#7201a8\"],[0.3333333333333333,\"#9c179e\"],[0.4444444444444444,\"#bd3786\"],[0.5555555555555556,\"#d8576b\"],[0.6666666666666666,\"#ed7953\"],[0.7777777777777778,\"#fb9f3a\"],[0.8888888888888888,\"#fdca26\"],[1.0,\"#f0f921\"]]}],\"heatmap\":[{\"type\":\"heatmap\",\"colorbar\":{\"outlinewidth\":0,\"ticks\":\"\"},\"colorscale\":[[0.0,\"#0d0887\"],[0.1111111111111111,\"#46039f\"],[0.2222222222222222,\"#7201a8\"],[0.3333333333333333,\"#9c179e\"],[0.4444444444444444,\"#bd3786\"],[0.5555555555555556,\"#d8576b\"],[0.6666666666666666,\"#ed7953\"],[0.7777777777777778,\"#fb9f3a\"],[0.8888888888888888,\"#fdca26\"],[1.0,\"#f0f921\"]]}],\"heatmapgl\":[{\"type\":\"heatmapgl\",\"colorbar\":{\"outlinewidth\":0,\"ticks\":\"\"},\"colorscale\":[[0.0,\"#0d0887\"],[0.1111111111111111,\"#46039f\"],[0.2222222222222222,\"#7201a8\"],[0.3333333333333333,\"#9c179e\"],[0.4444444444444444,\"#bd3786\"],[0.5555555555555556,\"#d8576b\"],[0.6666666666666666,\"#ed7953\"],[0.7777777777777778,\"#fb9f3a\"],[0.8888888888888888,\"#fdca26\"],[1.0,\"#f0f921\"]]}],\"contourcarpet\":[{\"type\":\"contourcarpet\",\"colorbar\":{\"outlinewidth\":0,\"ticks\":\"\"}}],\"contour\":[{\"type\":\"contour\",\"colorbar\":{\"outlinewidth\":0,\"ticks\":\"\"},\"colorscale\":[[0.0,\"#0d0887\"],[0.1111111111111111,\"#46039f\"],[0.2222222222222222,\"#7201a8\"],[0.3333333333333333,\"#9c179e\"],[0.4444444444444444,\"#bd3786\"],[0.5555555555555556,\"#d8576b\"],[0.6666666666666666,\"#ed7953\"],[0.7777777777777778,\"#fb9f3a\"],[0.8888888888888888,\"#fdca26\"],[1.0,\"#f0f921\"]]}],\"surface\":[{\"type\":\"surface\",\"colorbar\":{\"outlinewidth\":0,\"ticks\":\"\"},\"colorscale\":[[0.0,\"#0d0887\"],[0.1111111111111111,\"#46039f\"],[0.2222222222222222,\"#7201a8\"],[0.3333333333333333,\"#9c179e\"],[0.4444444444444444,\"#bd3786\"],[0.5555555555555556,\"#d8576b\"],[0.6666666666666666,\"#ed7953\"],[0.7777777777777778,\"#fb9f3a\"],[0.8888888888888888,\"#fdca26\"],[1.0,\"#f0f921\"]]}],\"mesh3d\":[{\"type\":\"mesh3d\",\"colorbar\":{\"outlinewidth\":0,\"ticks\":\"\"}}],\"scatter\":[{\"fillpattern\":{\"fillmode\":\"overlay\",\"size\":10,\"solidity\":0.2},\"type\":\"scatter\"}],\"parcoords\":[{\"type\":\"parcoords\",\"line\":{\"colorbar\":{\"outlinewidth\":0,\"ticks\":\"\"}}}],\"scatterpolargl\":[{\"type\":\"scatterpolargl\",\"marker\":{\"colorbar\":{\"outlinewidth\":0,\"ticks\":\"\"}}}],\"bar\":[{\"error_x\":{\"color\":\"#2a3f5f\"},\"error_y\":{\"color\":\"#2a3f5f\"},\"marker\":{\"line\":{\"color\":\"#E5ECF6\",\"width\":0.5},\"pattern\":{\"fillmode\":\"overlay\",\"size\":10,\"solidity\":0.2}},\"type\":\"bar\"}],\"scattergeo\":[{\"type\":\"scattergeo\",\"marker\":{\"colorbar\":{\"outlinewidth\":0,\"ticks\":\"\"}}}],\"scatterpolar\":[{\"type\":\"scatterpolar\",\"marker\":{\"colorbar\":{\"outlinewidth\":0,\"ticks\":\"\"}}}],\"histogram\":[{\"marker\":{\"pattern\":{\"fillmode\":\"overlay\",\"size\":10,\"solidity\":0.2}},\"type\":\"histogram\"}],\"scattergl\":[{\"type\":\"scattergl\",\"marker\":{\"colorbar\":{\"outlinewidth\":0,\"ticks\":\"\"}}}],\"scatter3d\":[{\"type\":\"scatter3d\",\"line\":{\"colorbar\":{\"outlinewidth\":0,\"ticks\":\"\"}},\"marker\":{\"colorbar\":{\"outlinewidth\":0,\"ticks\":\"\"}}}],\"scattermapbox\":[{\"type\":\"scattermapbox\",\"marker\":{\"colorbar\":{\"outlinewidth\":0,\"ticks\":\"\"}}}],\"scatterternary\":[{\"type\":\"scatterternary\",\"marker\":{\"colorbar\":{\"outlinewidth\":0,\"ticks\":\"\"}}}],\"scattercarpet\":[{\"type\":\"scattercarpet\",\"marker\":{\"colorbar\":{\"outlinewidth\":0,\"ticks\":\"\"}}}],\"carpet\":[{\"aaxis\":{\"endlinecolor\":\"#2a3f5f\",\"gridcolor\":\"white\",\"linecolor\":\"white\",\"minorgridcolor\":\"white\",\"startlinecolor\":\"#2a3f5f\"},\"baxis\":{\"endlinecolor\":\"#2a3f5f\",\"gridcolor\":\"white\",\"linecolor\":\"white\",\"minorgridcolor\":\"white\",\"startlinecolor\":\"#2a3f5f\"},\"type\":\"carpet\"}],\"table\":[{\"cells\":{\"fill\":{\"color\":\"#EBF0F8\"},\"line\":{\"color\":\"white\"}},\"header\":{\"fill\":{\"color\":\"#C8D4E3\"},\"line\":{\"color\":\"white\"}},\"type\":\"table\"}],\"barpolar\":[{\"marker\":{\"line\":{\"color\":\"#E5ECF6\",\"width\":0.5},\"pattern\":{\"fillmode\":\"overlay\",\"size\":10,\"solidity\":0.2}},\"type\":\"barpolar\"}],\"pie\":[{\"automargin\":true,\"type\":\"pie\"}]},\"layout\":{\"autotypenumbers\":\"strict\",\"colorway\":[\"#636efa\",\"#EF553B\",\"#00cc96\",\"#ab63fa\",\"#FFA15A\",\"#19d3f3\",\"#FF6692\",\"#B6E880\",\"#FF97FF\",\"#FECB52\"],\"font\":{\"color\":\"#2a3f5f\"},\"hovermode\":\"closest\",\"hoverlabel\":{\"align\":\"left\"},\"paper_bgcolor\":\"white\",\"plot_bgcolor\":\"#E5ECF6\",\"polar\":{\"bgcolor\":\"#E5ECF6\",\"angularaxis\":{\"gridcolor\":\"white\",\"linecolor\":\"white\",\"ticks\":\"\"},\"radialaxis\":{\"gridcolor\":\"white\",\"linecolor\":\"white\",\"ticks\":\"\"}},\"ternary\":{\"bgcolor\":\"#E5ECF6\",\"aaxis\":{\"gridcolor\":\"white\",\"linecolor\":\"white\",\"ticks\":\"\"},\"baxis\":{\"gridcolor\":\"white\",\"linecolor\":\"white\",\"ticks\":\"\"},\"caxis\":{\"gridcolor\":\"white\",\"linecolor\":\"white\",\"ticks\":\"\"}},\"coloraxis\":{\"colorbar\":{\"outlinewidth\":0,\"ticks\":\"\"}},\"colorscale\":{\"sequential\":[[0.0,\"#0d0887\"],[0.1111111111111111,\"#46039f\"],[0.2222222222222222,\"#7201a8\"],[0.3333333333333333,\"#9c179e\"],[0.4444444444444444,\"#bd3786\"],[0.5555555555555556,\"#d8576b\"],[0.6666666666666666,\"#ed7953\"],[0.7777777777777778,\"#fb9f3a\"],[0.8888888888888888,\"#fdca26\"],[1.0,\"#f0f921\"]],\"sequentialminus\":[[0.0,\"#0d0887\"],[0.1111111111111111,\"#46039f\"],[0.2222222222222222,\"#7201a8\"],[0.3333333333333333,\"#9c179e\"],[0.4444444444444444,\"#bd3786\"],[0.5555555555555556,\"#d8576b\"],[0.6666666666666666,\"#ed7953\"],[0.7777777777777778,\"#fb9f3a\"],[0.8888888888888888,\"#fdca26\"],[1.0,\"#f0f921\"]],\"diverging\":[[0,\"#8e0152\"],[0.1,\"#c51b7d\"],[0.2,\"#de77ae\"],[0.3,\"#f1b6da\"],[0.4,\"#fde0ef\"],[0.5,\"#f7f7f7\"],[0.6,\"#e6f5d0\"],[0.7,\"#b8e186\"],[0.8,\"#7fbc41\"],[0.9,\"#4d9221\"],[1,\"#276419\"]]},\"xaxis\":{\"gridcolor\":\"white\",\"linecolor\":\"white\",\"ticks\":\"\",\"title\":{\"standoff\":15},\"zerolinecolor\":\"white\",\"automargin\":true,\"zerolinewidth\":2},\"yaxis\":{\"gridcolor\":\"white\",\"linecolor\":\"white\",\"ticks\":\"\",\"title\":{\"standoff\":15},\"zerolinecolor\":\"white\",\"automargin\":true,\"zerolinewidth\":2},\"scene\":{\"xaxis\":{\"backgroundcolor\":\"#E5ECF6\",\"gridcolor\":\"white\",\"linecolor\":\"white\",\"showbackground\":true,\"ticks\":\"\",\"zerolinecolor\":\"white\",\"gridwidth\":2},\"yaxis\":{\"backgroundcolor\":\"#E5ECF6\",\"gridcolor\":\"white\",\"linecolor\":\"white\",\"showbackground\":true,\"ticks\":\"\",\"zerolinecolor\":\"white\",\"gridwidth\":2},\"zaxis\":{\"backgroundcolor\":\"#E5ECF6\",\"gridcolor\":\"white\",\"linecolor\":\"white\",\"showbackground\":true,\"ticks\":\"\",\"zerolinecolor\":\"white\",\"gridwidth\":2}},\"shapedefaults\":{\"line\":{\"color\":\"#2a3f5f\"}},\"annotationdefaults\":{\"arrowcolor\":\"#2a3f5f\",\"arrowhead\":0,\"arrowwidth\":1},\"geo\":{\"bgcolor\":\"white\",\"landcolor\":\"#E5ECF6\",\"subunitcolor\":\"white\",\"showland\":true,\"showlakes\":true,\"lakecolor\":\"white\"},\"title\":{\"x\":0.05},\"mapbox\":{\"style\":\"light\"}}},\"xaxis\":{\"anchor\":\"y\",\"domain\":[0.0,1.0],\"title\":{\"text\":\"X\"}},\"yaxis\":{\"anchor\":\"x\",\"domain\":[0.0,1.0],\"title\":{\"text\":\"Y\"}},\"legend\":{\"title\":{\"text\":\"Character Name\"},\"tracegroupgap\":0},\"margin\":{\"t\":60}},                        {\"responsive\": true}                    ).then(function(){\n",
       "                            \n",
       "var gd = document.getElementById('ba6f960f-b914-4abe-9b25-4cd06e423e1a');\n",
       "var x = new MutationObserver(function (mutations, observer) {{\n",
       "        var display = window.getComputedStyle(gd).display;\n",
       "        if (!display || display === 'none') {{\n",
       "            console.log([gd, 'removed!']);\n",
       "            Plotly.purge(gd);\n",
       "            observer.disconnect();\n",
       "        }}\n",
       "}});\n",
       "\n",
       "// Listen for the removal of the full notebook cells\n",
       "var notebookContainer = gd.closest('#notebook-container');\n",
       "if (notebookContainer) {{\n",
       "    x.observe(notebookContainer, {childList: true});\n",
       "}}\n",
       "\n",
       "// Listen for the clearing of the current output cell\n",
       "var outputEl = gd.closest('.output');\n",
       "if (outputEl) {{\n",
       "    x.observe(outputEl, {childList: true});\n",
       "}}\n",
       "\n",
       "                        })                };                });            </script>        </div>"
      ]
     },
     "metadata": {},
     "output_type": "display_data"
    }
   ],
   "source": [
    "import plotly.express as px\n",
    "fig = px.scatter(new_df.head(25), x='X', y='Y', color='Character Name')\n",
    "fig.show()"
   ]
  },
  {
   "cell_type": "code",
   "execution_count": 122,
   "id": "46082f3e",
   "metadata": {},
   "outputs": [],
   "source": [
    "df.to_csv('harry_potter_characters_with_dialogues.csv', index=False)"
   ]
  },
  {
   "cell_type": "code",
   "execution_count": null,
   "id": "636e2f6f",
   "metadata": {},
   "outputs": [],
   "source": []
  }
 ],
 "metadata": {
  "kernelspec": {
   "display_name": "Python 3 (ipykernel)",
   "language": "python",
   "name": "python3"
  },
  "language_info": {
   "codemirror_mode": {
    "name": "ipython",
    "version": 3
   },
   "file_extension": ".py",
   "mimetype": "text/x-python",
   "name": "python",
   "nbconvert_exporter": "python",
   "pygments_lexer": "ipython3",
   "version": "3.11.5"
  }
 },
 "nbformat": 4,
 "nbformat_minor": 5
}
